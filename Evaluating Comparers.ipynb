{
 "cells": [
  {
   "cell_type": "code",
   "execution_count": 1,
   "metadata": {
    "collapsed": true
   },
   "outputs": [],
   "source": [
    "from address_compare.comparers import *\n",
    "from address_compare.parsers import *\n",
    "from address_compare.evaluate import *\n",
    "import pandas as pd"
   ]
  },
  {
   "cell_type": "markdown",
   "metadata": {},
   "source": [
    "# Evaluating `naive_compare`\n",
    "\n",
    "The `naive_compare` function tokenizes strings by splitting strings by spaces, stripping the white space, and checking if the two sentences contain the same sets of words."
   ]
  },
  {
   "cell_type": "code",
   "execution_count": 2,
   "metadata": {},
   "outputs": [
    {
     "data": {
      "text/plain": [
       "True"
      ]
     },
     "execution_count": 2,
     "metadata": {},
     "output_type": "execute_result"
    }
   ],
   "source": [
    "a1 = \"123 Fake Street\"\n",
    "a2 = \"123 Street Fake\"\n",
    "a3 = \"123 Fake St.\"\n",
    "naive_compare(a1, a2)"
   ]
  },
  {
   "cell_type": "code",
   "execution_count": 4,
   "metadata": {},
   "outputs": [
    {
     "data": {
      "text/plain": [
       "False"
      ]
     },
     "execution_count": 4,
     "metadata": {},
     "output_type": "execute_result"
    }
   ],
   "source": [
    "naive_compare(a1, a3)"
   ]
  },
  {
   "cell_type": "markdown",
   "metadata": {},
   "source": [
    "We evaluate the function against a test data set shown here."
   ]
  },
  {
   "cell_type": "code",
   "execution_count": 5,
   "metadata": {},
   "outputs": [
    {
     "data": {
      "text/html": [
       "<div>\n",
       "<style>\n",
       "    .dataframe thead tr:only-child th {\n",
       "        text-align: right;\n",
       "    }\n",
       "\n",
       "    .dataframe thead th {\n",
       "        text-align: left;\n",
       "    }\n",
       "\n",
       "    .dataframe tbody tr th {\n",
       "        vertical-align: top;\n",
       "    }\n",
       "</style>\n",
       "<table border=\"1\" class=\"dataframe\">\n",
       "  <thead>\n",
       "    <tr style=\"text-align: right;\">\n",
       "      <th></th>\n",
       "      <th>address_1</th>\n",
       "      <th>address_2</th>\n",
       "      <th>match</th>\n",
       "      <th>origin</th>\n",
       "    </tr>\n",
       "  </thead>\n",
       "  <tbody>\n",
       "    <tr>\n",
       "      <th>0</th>\n",
       "      <td>3703 E BROAD AVE</td>\n",
       "      <td>3703 east broad ave</td>\n",
       "      <td>True</td>\n",
       "      <td>MarijuanaApplicants.xlsx</td>\n",
       "    </tr>\n",
       "    <tr>\n",
       "      <th>1</th>\n",
       "      <td>3703 E BROAD AVE</td>\n",
       "      <td>3704 E BROAD AVE</td>\n",
       "      <td>False</td>\n",
       "      <td>MarijuanaApplicants.xlsx</td>\n",
       "    </tr>\n",
       "    <tr>\n",
       "      <th>2</th>\n",
       "      <td>3703 E BROAD AVE</td>\n",
       "      <td>3703 E BROAD AV</td>\n",
       "      <td>True</td>\n",
       "      <td>MarijuanaApplicants.xlsx</td>\n",
       "    </tr>\n",
       "    <tr>\n",
       "      <th>3</th>\n",
       "      <td>3703 E BROAD AVE</td>\n",
       "      <td>3703 east broad avenue</td>\n",
       "      <td>True</td>\n",
       "      <td>MarijuanaApplicants.xlsx</td>\n",
       "    </tr>\n",
       "    <tr>\n",
       "      <th>4</th>\n",
       "      <td>3703 E BROAD AVE</td>\n",
       "      <td>3703 e broad avenue</td>\n",
       "      <td>True</td>\n",
       "      <td>MarijuanaApplicants.xlsx</td>\n",
       "    </tr>\n",
       "  </tbody>\n",
       "</table>\n",
       "</div>"
      ],
      "text/plain": [
       "                        address_1               address_2  match  \\\n",
       "0  3703 E BROAD AVE                   3703 east broad ave   True   \n",
       "1  3703 E BROAD AVE                      3704 E BROAD AVE  False   \n",
       "2  3703 E BROAD AVE                       3703 E BROAD AV   True   \n",
       "3  3703 E BROAD AVE                3703 east broad avenue   True   \n",
       "4  3703 E BROAD AVE                   3703 e broad avenue   True   \n",
       "\n",
       "                     origin  \n",
       "0  MarijuanaApplicants.xlsx  \n",
       "1  MarijuanaApplicants.xlsx  \n",
       "2  MarijuanaApplicants.xlsx  \n",
       "3  MarijuanaApplicants.xlsx  \n",
       "4  MarijuanaApplicants.xlsx  "
      ]
     },
     "execution_count": 5,
     "metadata": {},
     "output_type": "execute_result"
    }
   ],
   "source": [
    "test_data = pd.read_csv('address_compare/data/compare_train.csv')\n",
    "test_data.head()"
   ]
  },
  {
   "cell_type": "code",
   "execution_count": 9,
   "metadata": {},
   "outputs": [],
   "source": [
    "result = evaluate_comparer(naive_compare, test_data)"
   ]
  },
  {
   "cell_type": "code",
   "execution_count": 13,
   "metadata": {},
   "outputs": [
    {
     "data": {
      "text/plain": [
       "0.5"
      ]
     },
     "execution_count": 13,
     "metadata": {},
     "output_type": "execute_result"
    }
   ],
   "source": [
    "# accuracy\n",
    "(result['actual'] == result['predicted']).mean()"
   ]
  },
  {
   "cell_type": "code",
   "execution_count": 17,
   "metadata": {},
   "outputs": [
    {
     "data": {
      "text/plain": [
       "0.75"
      ]
     },
     "execution_count": 17,
     "metadata": {},
     "output_type": "execute_result"
    }
   ],
   "source": [
    "# precision\n",
    "result[result['predicted']]['actual'].mean()"
   ]
  },
  {
   "cell_type": "code",
   "execution_count": 18,
   "metadata": {},
   "outputs": [
    {
     "data": {
      "text/plain": [
       "0.09375"
      ]
     },
     "execution_count": 18,
     "metadata": {},
     "output_type": "execute_result"
    }
   ],
   "source": [
    "# recall\n",
    "result[result['actual']]['predicted'].mean()"
   ]
  }
 ],
 "metadata": {
  "kernelspec": {
   "display_name": "Python 3",
   "language": "python",
   "name": "python3"
  },
  "language_info": {
   "codemirror_mode": {
    "name": "ipython",
    "version": 3
   },
   "file_extension": ".py",
   "mimetype": "text/x-python",
   "name": "python",
   "nbconvert_exporter": "python",
   "pygments_lexer": "ipython3",
   "version": "3.6.1"
  }
 },
 "nbformat": 4,
 "nbformat_minor": 2
}
