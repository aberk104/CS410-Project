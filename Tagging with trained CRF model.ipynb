{
 "cells": [
  {
   "cell_type": "code",
   "execution_count": 1,
   "metadata": {},
   "outputs": [],
   "source": [
    "import pandas as pd\n",
    "from address_compare.crf_tagger import AddressTagger"
   ]
  },
  {
   "cell_type": "code",
   "execution_count": 2,
   "metadata": {
    "collapsed": true
   },
   "outputs": [],
   "source": [
    "# instantiate AddressTagger object with default options, which gives the model trained in `Train CRF Model`.ipynb\n",
    "at = AddressTagger()\n",
    "add = \"900 West New Haven Blvd, Ste. 43\""
   ]
  },
  {
   "cell_type": "code",
   "execution_count": 3,
   "metadata": {},
   "outputs": [
    {
     "data": {
      "text/plain": [
       "OrderedDict([('UNIT_TYPE', ['Ste.']),\n",
       "             ('UNIT_NUMBER', ['43']),\n",
       "             ('STREET_NUMBER', ['900']),\n",
       "             ('PRE_DIRECTION', ['West']),\n",
       "             ('STREET_NAME', ['New', 'Haven']),\n",
       "             ('STREET_TYPE', ['Blvd']),\n",
       "             ('POST_DIRECTION', []),\n",
       "             ('UNKNOWN', [])])"
      ]
     },
     "execution_count": 3,
     "metadata": {},
     "output_type": "execute_result"
    }
   ],
   "source": [
    "at.tag(add, concat = False)  # concat = False leaves tags as lists rather than strings"
   ]
  },
  {
   "cell_type": "code",
   "execution_count": 4,
   "metadata": {},
   "outputs": [
    {
     "data": {
      "text/plain": [
       "{'POST_DIRECTION': '',\n",
       " 'PRE_DIRECTION': 'West',\n",
       " 'STREET_NAME': 'New Haven',\n",
       " 'STREET_NUMBER': '900',\n",
       " 'STREET_TYPE': 'Blvd',\n",
       " 'UNIT_NUMBER': '43',\n",
       " 'UNIT_TYPE': 'Ste.',\n",
       " 'UNKNOWN': ''}"
      ]
     },
     "execution_count": 4,
     "metadata": {},
     "output_type": "execute_result"
    }
   ],
   "source": [
    "at.tag(add, concat = True)"
   ]
  },
  {
   "cell_type": "code",
   "execution_count": 5,
   "metadata": {},
   "outputs": [
    {
     "data": {
      "text/plain": [
       "{'POST_DIRECTION': '',\n",
       " 'PRE_DIRECTION': 'WEST',\n",
       " 'STREET_NAME': 'NEW HAVEN',\n",
       " 'STREET_NUMBER': '900',\n",
       " 'STREET_TYPE': 'BOULEVARD',\n",
       " 'UNIT_NUMBER': '43',\n",
       " 'UNIT_TYPE': 'STE.',\n",
       " 'UNKNOWN': ''}"
      ]
     },
     "execution_count": 5,
     "metadata": {},
     "output_type": "execute_result"
    }
   ],
   "source": [
    "at.tag(add, standardize=True)  # standardize = True applies the standardizer function"
   ]
  },
  {
   "cell_type": "code",
   "execution_count": 6,
   "metadata": {},
   "outputs": [
    {
     "data": {
      "text/html": [
       "<div>\n",
       "<style>\n",
       "    .dataframe thead tr:only-child th {\n",
       "        text-align: right;\n",
       "    }\n",
       "\n",
       "    .dataframe thead th {\n",
       "        text-align: left;\n",
       "    }\n",
       "\n",
       "    .dataframe tbody tr th {\n",
       "        vertical-align: top;\n",
       "    }\n",
       "</style>\n",
       "<table border=\"1\" class=\"dataframe\">\n",
       "  <thead>\n",
       "    <tr style=\"text-align: right;\">\n",
       "      <th></th>\n",
       "      <th>address</th>\n",
       "    </tr>\n",
       "  </thead>\n",
       "  <tbody>\n",
       "    <tr>\n",
       "      <th>0</th>\n",
       "      <td>5811 N Wall St</td>\n",
       "    </tr>\n",
       "    <tr>\n",
       "      <th>1</th>\n",
       "      <td>906 KING EDWARD ST</td>\n",
       "    </tr>\n",
       "    <tr>\n",
       "      <th>2</th>\n",
       "      <td>281 CRAIGBURN DRIVE</td>\n",
       "    </tr>\n",
       "    <tr>\n",
       "      <th>3</th>\n",
       "      <td>930 PORTAGE AVENUE</td>\n",
       "    </tr>\n",
       "    <tr>\n",
       "      <th>4</th>\n",
       "      <td>1-554 ST MARY'S RD</td>\n",
       "    </tr>\n",
       "  </tbody>\n",
       "</table>\n",
       "</div>"
      ],
      "text/plain": [
       "               address\n",
       "0       5811 N Wall St\n",
       "1   906 KING EDWARD ST\n",
       "2  281 CRAIGBURN DRIVE\n",
       "3   930 PORTAGE AVENUE\n",
       "4   1-554 ST MARY'S RD"
      ]
     },
     "execution_count": 6,
     "metadata": {},
     "output_type": "execute_result"
    }
   ],
   "source": [
    "df = pd.read_csv(\"address_compare/data/sample_data.csv\")\n",
    "df.head()"
   ]
  },
  {
   "cell_type": "code",
   "execution_count": 7,
   "metadata": {},
   "outputs": [
    {
     "data": {
      "text/html": [
       "<div>\n",
       "<style>\n",
       "    .dataframe thead tr:only-child th {\n",
       "        text-align: right;\n",
       "    }\n",
       "\n",
       "    .dataframe thead th {\n",
       "        text-align: left;\n",
       "    }\n",
       "\n",
       "    .dataframe tbody tr th {\n",
       "        vertical-align: top;\n",
       "    }\n",
       "</style>\n",
       "<table border=\"1\" class=\"dataframe\">\n",
       "  <thead>\n",
       "    <tr style=\"text-align: right;\">\n",
       "      <th></th>\n",
       "      <th>STREET_NUMBER</th>\n",
       "      <th>PRE_DIRECTION</th>\n",
       "      <th>STREET_NAME</th>\n",
       "      <th>STREET_TYPE</th>\n",
       "      <th>POST_DIRECTION</th>\n",
       "      <th>UNIT_TYPE</th>\n",
       "      <th>UNIT_NUMBER</th>\n",
       "    </tr>\n",
       "  </thead>\n",
       "  <tbody>\n",
       "    <tr>\n",
       "      <th>0</th>\n",
       "      <td>5811</td>\n",
       "      <td>N</td>\n",
       "      <td>Wall</td>\n",
       "      <td>St</td>\n",
       "      <td></td>\n",
       "      <td></td>\n",
       "      <td></td>\n",
       "    </tr>\n",
       "    <tr>\n",
       "      <th>1</th>\n",
       "      <td>906</td>\n",
       "      <td></td>\n",
       "      <td>KING EDWARD</td>\n",
       "      <td>ST</td>\n",
       "      <td></td>\n",
       "      <td></td>\n",
       "      <td></td>\n",
       "    </tr>\n",
       "    <tr>\n",
       "      <th>2</th>\n",
       "      <td>281</td>\n",
       "      <td></td>\n",
       "      <td>CRAIGBURN</td>\n",
       "      <td>DRIVE</td>\n",
       "      <td></td>\n",
       "      <td></td>\n",
       "      <td></td>\n",
       "    </tr>\n",
       "    <tr>\n",
       "      <th>3</th>\n",
       "      <td>930</td>\n",
       "      <td></td>\n",
       "      <td>PORTAGE</td>\n",
       "      <td>AVENUE</td>\n",
       "      <td></td>\n",
       "      <td></td>\n",
       "      <td></td>\n",
       "    </tr>\n",
       "    <tr>\n",
       "      <th>4</th>\n",
       "      <td>554</td>\n",
       "      <td></td>\n",
       "      <td>ST MARY'S</td>\n",
       "      <td>RD</td>\n",
       "      <td></td>\n",
       "      <td></td>\n",
       "      <td>1</td>\n",
       "    </tr>\n",
       "    <tr>\n",
       "      <th>5</th>\n",
       "      <td>900</td>\n",
       "      <td>W.</td>\n",
       "      <td>Hastings</td>\n",
       "      <td>St</td>\n",
       "      <td></td>\n",
       "      <td>Ste</td>\n",
       "      <td>904</td>\n",
       "    </tr>\n",
       "    <tr>\n",
       "      <th>6</th>\n",
       "      <td>200</td>\n",
       "      <td></td>\n",
       "      <td>12th</td>\n",
       "      <td>Street</td>\n",
       "      <td>West</td>\n",
       "      <td></td>\n",
       "      <td></td>\n",
       "    </tr>\n",
       "  </tbody>\n",
       "</table>\n",
       "</div>"
      ],
      "text/plain": [
       "  STREET_NUMBER PRE_DIRECTION  STREET_NAME STREET_TYPE POST_DIRECTION  \\\n",
       "0          5811             N         Wall          St                  \n",
       "1           906                KING EDWARD          ST                  \n",
       "2           281                  CRAIGBURN       DRIVE                  \n",
       "3           930                    PORTAGE      AVENUE                  \n",
       "4           554                  ST MARY'S          RD                  \n",
       "5           900            W.     Hastings          St                  \n",
       "6           200                       12th      Street           West   \n",
       "\n",
       "  UNIT_TYPE UNIT_NUMBER  \n",
       "0                        \n",
       "1                        \n",
       "2                        \n",
       "3                        \n",
       "4                     1  \n",
       "5       Ste         904  \n",
       "6                        "
      ]
     },
     "execution_count": 7,
     "metadata": {},
     "output_type": "execute_result"
    }
   ],
   "source": [
    "at.series_to_address_df(df[\"address\"], standardize = False)"
   ]
  },
  {
   "cell_type": "code",
   "execution_count": 8,
   "metadata": {},
   "outputs": [
    {
     "data": {
      "text/html": [
       "<div>\n",
       "<style>\n",
       "    .dataframe thead tr:only-child th {\n",
       "        text-align: right;\n",
       "    }\n",
       "\n",
       "    .dataframe thead th {\n",
       "        text-align: left;\n",
       "    }\n",
       "\n",
       "    .dataframe tbody tr th {\n",
       "        vertical-align: top;\n",
       "    }\n",
       "</style>\n",
       "<table border=\"1\" class=\"dataframe\">\n",
       "  <thead>\n",
       "    <tr style=\"text-align: right;\">\n",
       "      <th></th>\n",
       "      <th>STREET_NUMBER</th>\n",
       "      <th>PRE_DIRECTION</th>\n",
       "      <th>STREET_NAME</th>\n",
       "      <th>STREET_TYPE</th>\n",
       "      <th>POST_DIRECTION</th>\n",
       "      <th>UNIT_TYPE</th>\n",
       "      <th>UNIT_NUMBER</th>\n",
       "    </tr>\n",
       "  </thead>\n",
       "  <tbody>\n",
       "    <tr>\n",
       "      <th>0</th>\n",
       "      <td>5811</td>\n",
       "      <td>NORTH</td>\n",
       "      <td>WALL</td>\n",
       "      <td>STREET</td>\n",
       "      <td></td>\n",
       "      <td></td>\n",
       "      <td></td>\n",
       "    </tr>\n",
       "    <tr>\n",
       "      <th>1</th>\n",
       "      <td>906</td>\n",
       "      <td></td>\n",
       "      <td>KING EDWARD</td>\n",
       "      <td>STREET</td>\n",
       "      <td></td>\n",
       "      <td></td>\n",
       "      <td></td>\n",
       "    </tr>\n",
       "    <tr>\n",
       "      <th>2</th>\n",
       "      <td>281</td>\n",
       "      <td></td>\n",
       "      <td>CRAIGBURN</td>\n",
       "      <td>DRIVE</td>\n",
       "      <td></td>\n",
       "      <td></td>\n",
       "      <td></td>\n",
       "    </tr>\n",
       "    <tr>\n",
       "      <th>3</th>\n",
       "      <td>930</td>\n",
       "      <td></td>\n",
       "      <td>PORTAGE</td>\n",
       "      <td>AVENUE</td>\n",
       "      <td></td>\n",
       "      <td></td>\n",
       "      <td></td>\n",
       "    </tr>\n",
       "    <tr>\n",
       "      <th>4</th>\n",
       "      <td>554</td>\n",
       "      <td></td>\n",
       "      <td>ST MARY'S</td>\n",
       "      <td>ROAD</td>\n",
       "      <td></td>\n",
       "      <td></td>\n",
       "      <td>1</td>\n",
       "    </tr>\n",
       "    <tr>\n",
       "      <th>5</th>\n",
       "      <td>900</td>\n",
       "      <td>WEST</td>\n",
       "      <td>HASTINGS</td>\n",
       "      <td>STREET</td>\n",
       "      <td></td>\n",
       "      <td>SUITE</td>\n",
       "      <td>904</td>\n",
       "    </tr>\n",
       "    <tr>\n",
       "      <th>6</th>\n",
       "      <td>200</td>\n",
       "      <td></td>\n",
       "      <td>12TH</td>\n",
       "      <td>STREET</td>\n",
       "      <td>WEST</td>\n",
       "      <td></td>\n",
       "      <td></td>\n",
       "    </tr>\n",
       "  </tbody>\n",
       "</table>\n",
       "</div>"
      ],
      "text/plain": [
       "  STREET_NUMBER PRE_DIRECTION  STREET_NAME STREET_TYPE POST_DIRECTION  \\\n",
       "0          5811         NORTH         WALL      STREET                  \n",
       "1           906                KING EDWARD      STREET                  \n",
       "2           281                  CRAIGBURN       DRIVE                  \n",
       "3           930                    PORTAGE      AVENUE                  \n",
       "4           554                  ST MARY'S        ROAD                  \n",
       "5           900          WEST     HASTINGS      STREET                  \n",
       "6           200                       12TH      STREET           WEST   \n",
       "\n",
       "  UNIT_TYPE UNIT_NUMBER  \n",
       "0                        \n",
       "1                        \n",
       "2                        \n",
       "3                        \n",
       "4                     1  \n",
       "5     SUITE         904  \n",
       "6                        "
      ]
     },
     "execution_count": 8,
     "metadata": {},
     "output_type": "execute_result"
    }
   ],
   "source": [
    "at.series_to_address_df(df[\"address\"], standardize = True)"
   ]
  }
 ],
 "metadata": {
  "kernelspec": {
   "display_name": "Python 3",
   "language": "python",
   "name": "python3"
  },
  "language_info": {
   "codemirror_mode": {
    "name": "ipython",
    "version": 3
   },
   "file_extension": ".py",
   "mimetype": "text/x-python",
   "name": "python",
   "nbconvert_exporter": "python",
   "pygments_lexer": "ipython3",
   "version": "3.6.1"
  }
 },
 "nbformat": 4,
 "nbformat_minor": 2
}
