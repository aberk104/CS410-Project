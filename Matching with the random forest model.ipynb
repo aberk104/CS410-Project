{
 "cells": [
  {
   "cell_type": "markdown",
   "metadata": {},
   "source": [
    "# Using the pre-trained random forest model to detect matches"
   ]
  },
  {
   "cell_type": "code",
   "execution_count": 1,
   "metadata": {},
   "outputs": [],
   "source": [
    "import pandas as pd\n",
    "from address_compare.crf_tagger import AddressTagger\n",
    "from address_compare.prob_matchers import ProbPredict"
   ]
  },
  {
   "cell_type": "code",
   "execution_count": 2,
   "metadata": {},
   "outputs": [
    {
     "name": "stdout",
     "output_type": "stream",
     "text": [
      "0       #1401-750 Jervis Street\n",
      "1    25 West King Edward Avenue\n",
      "2           1-950 EAST 10TH AVE\n",
      "dtype: object\n",
      "0    #750 1401 Jervis Street\n",
      "1       Unit 1, 950 E 10 AVE\n",
      "2       25 W King Edward Ave\n",
      "3            123 Fake Street\n",
      "dtype: object\n"
     ]
    }
   ],
   "source": [
    "s1 = pd.Series([\"#1401-750 Jervis Street\", \"25 West King Edward Avenue\", \"1-950 EAST 10TH AVE\"])\n",
    "s2 = pd.Series([\"#750 1401 Jervis Street\", \"Unit 1, 950 E 10 AVE\", \"25 W King Edward Ave\", '123 Fake Street'])\n",
    "print(s1)\n",
    "print(s2)"
   ]
  },
  {
   "cell_type": "code",
   "execution_count": 3,
   "metadata": {
    "collapsed": true
   },
   "outputs": [],
   "source": [
    "at = AddressTagger()\n",
    "ad1 = at.series_to_address_df(s1)\n",
    "ad2 = at.series_to_address_df(s2)"
   ]
  },
  {
   "cell_type": "code",
   "execution_count": 4,
   "metadata": {},
   "outputs": [],
   "source": [
    "from itertools import product\n",
    "d1 = pd.DataFrame()\n",
    "d2 = pd.DataFrame()\n",
    "i1 = []\n",
    "i2 = []\n",
    "for a, b in product(ad1.index, ad2.index):\n",
    "    i1.append(a)\n",
    "    i2.append(b)\n",
    "df1 = ad1.iloc[i1,:].reset_index()\n",
    "df2 = ad2.iloc[i2,:].reset_index()"
   ]
  },
  {
   "cell_type": "code",
   "execution_count": 5,
   "metadata": {},
   "outputs": [
    {
     "name": "stdout",
     "output_type": "stream",
     "text": [
      "[ 0.          0.          0.          0.          0.          0.\n",
      "  0.99276684  0.          0.          1.          0.1         0.        ]\n"
     ]
    },
    {
     "data": {
      "text/html": [
       "<div>\n",
       "<style>\n",
       "    .dataframe thead tr:only-child th {\n",
       "        text-align: right;\n",
       "    }\n",
       "\n",
       "    .dataframe thead th {\n",
       "        text-align: left;\n",
       "    }\n",
       "\n",
       "    .dataframe tbody tr th {\n",
       "        vertical-align: top;\n",
       "    }\n",
       "</style>\n",
       "<table border=\"1\" class=\"dataframe\">\n",
       "  <thead>\n",
       "    <tr style=\"text-align: right;\">\n",
       "      <th></th>\n",
       "      <th>id1</th>\n",
       "      <th>id2</th>\n",
       "    </tr>\n",
       "  </thead>\n",
       "  <tbody>\n",
       "    <tr>\n",
       "      <th>6</th>\n",
       "      <td>1</td>\n",
       "      <td>2</td>\n",
       "    </tr>\n",
       "    <tr>\n",
       "      <th>9</th>\n",
       "      <td>2</td>\n",
       "      <td>1</td>\n",
       "    </tr>\n",
       "  </tbody>\n",
       "</table>\n",
       "</div>"
      ],
      "text/plain": [
       "   id1  id2\n",
       "6    1    2\n",
       "9    2    1"
      ]
     },
     "execution_count": 5,
     "metadata": {},
     "output_type": "execute_result"
    }
   ],
   "source": [
    "threshold = 0.95\n",
    "pp = ProbPredict()\n",
    "probs = pp.predict_prob(df1, df2)\n",
    "print(probs)\n",
    "matches = pd.DataFrame(dict(id1 = df1['index'], id2 = df2['index']))[probs > threshold]\n",
    "matches"
   ]
  },
  {
   "cell_type": "code",
   "execution_count": 6,
   "metadata": {},
   "outputs": [
    {
     "data": {
      "text/html": [
       "<div>\n",
       "<style>\n",
       "    .dataframe thead tr:only-child th {\n",
       "        text-align: right;\n",
       "    }\n",
       "\n",
       "    .dataframe thead th {\n",
       "        text-align: left;\n",
       "    }\n",
       "\n",
       "    .dataframe tbody tr th {\n",
       "        vertical-align: top;\n",
       "    }\n",
       "</style>\n",
       "<table border=\"1\" class=\"dataframe\">\n",
       "  <thead>\n",
       "    <tr style=\"text-align: right;\">\n",
       "      <th></th>\n",
       "      <th>STREET_NUMBER</th>\n",
       "      <th>PRE_DIRECTION</th>\n",
       "      <th>STREET_NAME</th>\n",
       "      <th>STREET_TYPE</th>\n",
       "      <th>POST_DIRECTION</th>\n",
       "      <th>UNIT_TYPE</th>\n",
       "      <th>UNIT_NUMBER</th>\n",
       "    </tr>\n",
       "  </thead>\n",
       "  <tbody>\n",
       "    <tr>\n",
       "      <th>1</th>\n",
       "      <td>25</td>\n",
       "      <td>WEST</td>\n",
       "      <td>KING EDWARD</td>\n",
       "      <td>AVENUE</td>\n",
       "      <td></td>\n",
       "      <td></td>\n",
       "      <td></td>\n",
       "    </tr>\n",
       "    <tr>\n",
       "      <th>2</th>\n",
       "      <td>950</td>\n",
       "      <td>EAST</td>\n",
       "      <td>10TH</td>\n",
       "      <td>AVENUE</td>\n",
       "      <td></td>\n",
       "      <td></td>\n",
       "      <td>1</td>\n",
       "    </tr>\n",
       "  </tbody>\n",
       "</table>\n",
       "</div>"
      ],
      "text/plain": [
       "  STREET_NUMBER PRE_DIRECTION  STREET_NAME STREET_TYPE POST_DIRECTION  \\\n",
       "1            25          WEST  KING EDWARD      AVENUE                  \n",
       "2           950          EAST         10TH      AVENUE                  \n",
       "\n",
       "  UNIT_TYPE UNIT_NUMBER  \n",
       "1                        \n",
       "2                     1  "
      ]
     },
     "execution_count": 6,
     "metadata": {},
     "output_type": "execute_result"
    }
   ],
   "source": [
    "ad1.loc[matches.id1,:]"
   ]
  },
  {
   "cell_type": "code",
   "execution_count": 7,
   "metadata": {},
   "outputs": [
    {
     "data": {
      "text/html": [
       "<div>\n",
       "<style>\n",
       "    .dataframe thead tr:only-child th {\n",
       "        text-align: right;\n",
       "    }\n",
       "\n",
       "    .dataframe thead th {\n",
       "        text-align: left;\n",
       "    }\n",
       "\n",
       "    .dataframe tbody tr th {\n",
       "        vertical-align: top;\n",
       "    }\n",
       "</style>\n",
       "<table border=\"1\" class=\"dataframe\">\n",
       "  <thead>\n",
       "    <tr style=\"text-align: right;\">\n",
       "      <th></th>\n",
       "      <th>STREET_NUMBER</th>\n",
       "      <th>PRE_DIRECTION</th>\n",
       "      <th>STREET_NAME</th>\n",
       "      <th>STREET_TYPE</th>\n",
       "      <th>POST_DIRECTION</th>\n",
       "      <th>UNIT_TYPE</th>\n",
       "      <th>UNIT_NUMBER</th>\n",
       "    </tr>\n",
       "  </thead>\n",
       "  <tbody>\n",
       "    <tr>\n",
       "      <th>2</th>\n",
       "      <td>25</td>\n",
       "      <td>WEST</td>\n",
       "      <td>KING EDWARD</td>\n",
       "      <td>AVENUE</td>\n",
       "      <td></td>\n",
       "      <td></td>\n",
       "      <td></td>\n",
       "    </tr>\n",
       "    <tr>\n",
       "      <th>1</th>\n",
       "      <td>950</td>\n",
       "      <td>EAST</td>\n",
       "      <td>10</td>\n",
       "      <td>AVENUE</td>\n",
       "      <td></td>\n",
       "      <td>UNIT</td>\n",
       "      <td>1</td>\n",
       "    </tr>\n",
       "  </tbody>\n",
       "</table>\n",
       "</div>"
      ],
      "text/plain": [
       "  STREET_NUMBER PRE_DIRECTION  STREET_NAME STREET_TYPE POST_DIRECTION  \\\n",
       "2            25          WEST  KING EDWARD      AVENUE                  \n",
       "1           950          EAST           10      AVENUE                  \n",
       "\n",
       "  UNIT_TYPE UNIT_NUMBER  \n",
       "2                        \n",
       "1      UNIT           1  "
      ]
     },
     "execution_count": 7,
     "metadata": {},
     "output_type": "execute_result"
    }
   ],
   "source": [
    "ad2.loc[matches.id2,:]"
   ]
  }
 ],
 "metadata": {
  "kernelspec": {
   "display_name": "Python 3",
   "language": "python",
   "name": "python3"
  },
  "language_info": {
   "codemirror_mode": {
    "name": "ipython",
    "version": 3
   },
   "file_extension": ".py",
   "mimetype": "text/x-python",
   "name": "python",
   "nbconvert_exporter": "python",
   "pygments_lexer": "ipython3",
   "version": "3.6.1"
  }
 },
 "nbformat": 4,
 "nbformat_minor": 2
}
