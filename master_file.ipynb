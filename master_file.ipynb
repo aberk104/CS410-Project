{
 "cells": [
  {
   "cell_type": "markdown",
   "metadata": {},
   "source": [
    "The master_file is an example of how the address_compare library can be used to load training and test data, tag the addresses, standardize the addresses, and compare the different address lists.  It can serve as a reusable program by updating the input parameters.  If ground truth files are available, it will also show how well the tagger and compare functions perform."
   ]
  },
  {
   "cell_type": "code",
   "execution_count": 1,
   "metadata": {},
   "outputs": [],
   "source": [
    "from address_compare import aggregate_functions as aggf\n",
    "import pandas as pd"
   ]
  },
  {
   "cell_type": "markdown",
   "metadata": {},
   "source": [
    "Although this notebook is an example of how to use the address_compare library, the following parameters can be changed in order to control the inputs and outputs.  I.e., the following parameters allow this file to be a reusable program sitting on top of the address_compare library.\n",
    "\n",
    "\n",
    "The **run_mode** variable controls which portions of this notebook are run.  Options are:\n",
    "- **'tagger'** = run the address tagger against a single file that also contains the ground truths.  output will show how well the tagger did against the ground truths.  tagger will only run against the file found in @file_location_raw_addresses_1\n",
    "- **'comparer'** = tag 2 separate lists of addresses and find matches between the lists.  no ground truths for comparisons.  no tagger ground truths or match ground truths included. program will run against both @file_location_raw_addresses_1 and @file_location_raw_addresses_2\n",
    "- **'comparer_truths'** = run the comparer and validate the matcher performance against the ground truths. program will run against both @file_location_raw_addresses_1 and @file_location_raw_addresses_2.  in addition, the matched ground truths will be found in @file_name_ground_truth_matches\n",
    "- **'all'** = runs all 3 modes.  i.e., tagger results compared against the ground truths and the matcher results compared against the ground truths.  program will run against both @file_location_raw_addresses_1 and @file_location_raw_addresses_2. in addition, the matched ground truths will be found in @file_name_ground_truth_matches"
   ]
  },
  {
   "cell_type": "code",
   "execution_count": 2,
   "metadata": {
    "collapsed": true
   },
   "outputs": [],
   "source": [
    "run_mode = 'comparer' #choose from ['tagger','comparer','comparer_truths','all']\n",
    "\n",
    "\n",
    "standardize_addresses = True #if True, the tagged address components will be standardized (changed to upper case, unit types, street types, etc. changed to long form names)\n",
    "\n",
    "use_raw_address_files = True #if False, only the specified number of randomly created addresses above will be used; False only works with the 'comparer' run_mode\n",
    "num_rndm_addresses_to_create = 100 #if use_raw_address_files = False, the number of addresses that will be randomly created for use in the tagger and compare functions\n",
    "\n",
    "field_name_raw_addresses = 'Single String Address' #represents the name of the field in the raw address files containing the raw address (street information)\n",
    "field_name_record_id = 'Record_ID' #represents the name of the field containing the Record ID in the raw files; if not present in the raw files, populate with None\n",
    "\n",
    "file_location_raw_addresses_1 = 'data\\\\stnd tagged WA addresses - hwy as st type.xlsx'\n",
    "#file_location_raw_addresses_1 = 'data\\\\tagged stnd CO Stores - hwy as street type.xlsx'\n",
    "#file_location_raw_addresses_1 = 'data\\\\MarijuanaApplicants - test data list 1.xlsx'\n",
    "file_location_raw_addresses_2 = 'data\\\\MarijuanaApplicants - test data list 2.xlsx'\n",
    "\n",
    "file_name_ground_truth_matches = 'data\\\\marijuana applicants test data - correct matches.xlsx'\n",
    "\n",
    "write_output_to_excel = True #if True, the output from the applicable modes will be written to Excel; otherwise, results will be printed in the notebook"
   ]
  },
  {
   "cell_type": "code",
   "execution_count": 3,
   "metadata": {},
   "outputs": [],
   "source": [
    "if run_mode == 'tagger':\n",
    "    df_dict = aggf.tagger_vs_ground_truths(file_location_raw_addresses_1, field_name_record_id, field_name_raw_addresses, standardize_addresses)\n",
    "    if write_output_to_excel:\n",
    "        output_name = 'output\\\\file_1_tagger_vs_truths.xlsx'\n",
    "        tagger_writer = pd.ExcelWriter(output_name, engine='xlsxwriter')\n",
    "        for sheet, frame in df_dict.items():\n",
    "            frame.to_excel(tagger_writer, sheet_name=sheet)\n",
    "        tagger_writer.save()\n",
    "    else:\n",
    "        for sheet, frame in df_dict.items():\n",
    "            print (\"sheet name = \", sheet)\n",
    "            print (frame)"
   ]
  },
  {
   "cell_type": "code",
   "execution_count": 4,
   "metadata": {},
   "outputs": [
    {
     "ename": "KeyError",
     "evalue": "\"['Record_ID'] not in index\"",
     "output_type": "error",
     "traceback": [
      "\u001b[1;31m---------------------------------------------------------------------------\u001b[0m",
      "\u001b[1;31mKeyError\u001b[0m                                  Traceback (most recent call last)",
      "\u001b[1;32m<ipython-input-4-94b1eb51611a>\u001b[0m in \u001b[0;36m<module>\u001b[1;34m()\u001b[0m\n\u001b[0;32m      1\u001b[0m \u001b[1;32mif\u001b[0m \u001b[0mrun_mode\u001b[0m \u001b[1;32min\u001b[0m \u001b[1;33m[\u001b[0m\u001b[1;34m'comparer'\u001b[0m\u001b[1;33m,\u001b[0m\u001b[1;34m'comparer_truths'\u001b[0m\u001b[1;33m]\u001b[0m\u001b[1;33m:\u001b[0m\u001b[1;33m\u001b[0m\u001b[0m\n\u001b[1;32m----> 2\u001b[1;33m     \u001b[0mcompared_dict\u001b[0m\u001b[1;33m,\u001b[0m \u001b[0mmatcher_truths_dict\u001b[0m \u001b[1;33m=\u001b[0m \u001b[0maggf\u001b[0m\u001b[1;33m.\u001b[0m\u001b[0mtag_and_compare_addresses\u001b[0m\u001b[1;33m(\u001b[0m\u001b[0mfile_location_raw_addresses_1\u001b[0m\u001b[1;33m,\u001b[0m \u001b[0mfile_location_raw_addresses_2\u001b[0m\u001b[1;33m,\u001b[0m \u001b[0mfile_name_ground_truth_matches\u001b[0m\u001b[1;33m,\u001b[0m \u001b[0muse_raw_address_files\u001b[0m\u001b[1;33m,\u001b[0m \u001b[0mnum_rndm_addresses_to_create\u001b[0m\u001b[1;33m,\u001b[0m \u001b[0mfield_name_record_id\u001b[0m\u001b[1;33m,\u001b[0m \u001b[0mfield_name_raw_addresses\u001b[0m\u001b[1;33m,\u001b[0m \u001b[0mstandardize_addresses\u001b[0m\u001b[1;33m,\u001b[0m \u001b[0mrun_mode\u001b[0m\u001b[1;33m)\u001b[0m\u001b[1;33m\u001b[0m\u001b[0m\n\u001b[0m\u001b[0;32m      3\u001b[0m     \u001b[1;32mif\u001b[0m \u001b[0mwrite_output_to_excel\u001b[0m\u001b[1;33m:\u001b[0m\u001b[1;33m\u001b[0m\u001b[0m\n\u001b[0;32m      4\u001b[0m         \u001b[0moutput_name\u001b[0m \u001b[1;33m=\u001b[0m \u001b[1;34m'output\\\\raw_to_matched_addresses.xlsx'\u001b[0m\u001b[1;33m\u001b[0m\u001b[0m\n\u001b[0;32m      5\u001b[0m         \u001b[0mtagger_writer\u001b[0m \u001b[1;33m=\u001b[0m \u001b[0mpd\u001b[0m\u001b[1;33m.\u001b[0m\u001b[0mExcelWriter\u001b[0m\u001b[1;33m(\u001b[0m\u001b[0moutput_name\u001b[0m\u001b[1;33m,\u001b[0m \u001b[0mengine\u001b[0m\u001b[1;33m=\u001b[0m\u001b[1;34m'xlsxwriter'\u001b[0m\u001b[1;33m)\u001b[0m\u001b[1;33m\u001b[0m\u001b[0m\n",
      "\u001b[1;32mC:\\Users\\Alan\\Documents\\GitHub\\CS410-Project\\address_compare\\aggregate_functions.py\u001b[0m in \u001b[0;36mtag_and_compare_addresses\u001b[1;34m(file1, file2, groundtruths, use_raw_files, num_rndm_address, field_rec_id, field_raw_address, to_standardize, run_mode, missing_cols, matchtypes)\u001b[0m\n\u001b[0;32m    270\u001b[0m \u001b[1;33m\u001b[0m\u001b[0m\n\u001b[0;32m    271\u001b[0m     \u001b[1;31m# Compare the 2 tagged address lists\u001b[0m\u001b[1;33m\u001b[0m\u001b[1;33m\u001b[0m\u001b[0m\n\u001b[1;32m--> 272\u001b[1;33m     \u001b[0mcompared_lists_dict\u001b[0m \u001b[1;33m=\u001b[0m \u001b[0mpvt_compare_2_address_lists\u001b[0m\u001b[1;33m(\u001b[0m\u001b[0mraw_address_list_1\u001b[0m\u001b[1;33m,\u001b[0m \u001b[0mraw_address_list_2\u001b[0m\u001b[1;33m,\u001b[0m \u001b[0mtagged_address_list_1\u001b[0m\u001b[1;33m,\u001b[0m \u001b[0mtagged_address_list_2\u001b[0m\u001b[1;33m,\u001b[0m \u001b[0mrun_mode\u001b[0m\u001b[1;33m)\u001b[0m\u001b[1;33m\u001b[0m\u001b[0m\n\u001b[0m\u001b[0;32m    273\u001b[0m \u001b[1;33m\u001b[0m\u001b[0m\n\u001b[0;32m    274\u001b[0m     \u001b[1;31m# Model Results vs. Ground Truths\u001b[0m\u001b[1;33m\u001b[0m\u001b[1;33m\u001b[0m\u001b[0m\n",
      "\u001b[1;32mC:\\Users\\Alan\\Documents\\GitHub\\CS410-Project\\address_compare\\aggregate_functions.py\u001b[0m in \u001b[0;36mpvt_compare_2_address_lists\u001b[1;34m(rawlist1, rawlist2, taggedlist1, taggedlist2, runmode)\u001b[0m\n\u001b[0;32m     94\u001b[0m \u001b[1;33m\u001b[0m\u001b[0m\n\u001b[0;32m     95\u001b[0m     \u001b[1;31m# Add Remaining Columns from Raw Address Dataframes to Tagged Address Dataframes\u001b[0m\u001b[1;33m\u001b[0m\u001b[1;33m\u001b[0m\u001b[0m\n\u001b[1;32m---> 96\u001b[1;33m     \u001b[0mjoined_address_list_1\u001b[0m \u001b[1;33m=\u001b[0m \u001b[0mtaggedlist1\u001b[0m\u001b[1;33m.\u001b[0m\u001b[0mjoin\u001b[0m\u001b[1;33m(\u001b[0m\u001b[0mrawlist1\u001b[0m\u001b[1;33m[\u001b[0m\u001b[1;33m[\u001b[0m\u001b[1;34m'Record_ID'\u001b[0m\u001b[1;33m,\u001b[0m \u001b[1;34m'CITY'\u001b[0m\u001b[1;33m,\u001b[0m \u001b[1;34m'STATE'\u001b[0m\u001b[1;33m,\u001b[0m \u001b[1;34m'ZIP_CODE'\u001b[0m\u001b[1;33m,\u001b[0m \u001b[1;34m'UNKNOWN'\u001b[0m\u001b[1;33m,\u001b[0m \u001b[1;34m'Zip_Code_Error'\u001b[0m\u001b[1;33m]\u001b[0m\u001b[1;33m]\u001b[0m\u001b[1;33m)\u001b[0m\u001b[1;33m\u001b[0m\u001b[0m\n\u001b[0m\u001b[0;32m     97\u001b[0m     \u001b[0mjoined_address_list_2\u001b[0m \u001b[1;33m=\u001b[0m \u001b[0mtaggedlist2\u001b[0m\u001b[1;33m.\u001b[0m\u001b[0mjoin\u001b[0m\u001b[1;33m(\u001b[0m\u001b[0mrawlist2\u001b[0m\u001b[1;33m[\u001b[0m\u001b[1;33m[\u001b[0m\u001b[1;34m'Record_ID'\u001b[0m\u001b[1;33m,\u001b[0m \u001b[1;34m'CITY'\u001b[0m\u001b[1;33m,\u001b[0m \u001b[1;34m'STATE'\u001b[0m\u001b[1;33m,\u001b[0m \u001b[1;34m'ZIP_CODE'\u001b[0m\u001b[1;33m,\u001b[0m \u001b[1;34m'UNKNOWN'\u001b[0m\u001b[1;33m,\u001b[0m \u001b[1;34m'Zip_Code_Error'\u001b[0m\u001b[1;33m]\u001b[0m\u001b[1;33m]\u001b[0m\u001b[1;33m)\u001b[0m\u001b[1;33m\u001b[0m\u001b[0m\n\u001b[0;32m     98\u001b[0m \u001b[1;33m\u001b[0m\u001b[0m\n",
      "\u001b[1;32mC:\\ProgramData\\Anaconda3\\lib\\site-packages\\pandas\\core\\frame.py\u001b[0m in \u001b[0;36m__getitem__\u001b[1;34m(self, key)\u001b[0m\n\u001b[0;32m   2131\u001b[0m         \u001b[1;32mif\u001b[0m \u001b[0misinstance\u001b[0m\u001b[1;33m(\u001b[0m\u001b[0mkey\u001b[0m\u001b[1;33m,\u001b[0m \u001b[1;33m(\u001b[0m\u001b[0mSeries\u001b[0m\u001b[1;33m,\u001b[0m \u001b[0mnp\u001b[0m\u001b[1;33m.\u001b[0m\u001b[0mndarray\u001b[0m\u001b[1;33m,\u001b[0m \u001b[0mIndex\u001b[0m\u001b[1;33m,\u001b[0m \u001b[0mlist\u001b[0m\u001b[1;33m)\u001b[0m\u001b[1;33m)\u001b[0m\u001b[1;33m:\u001b[0m\u001b[1;33m\u001b[0m\u001b[0m\n\u001b[0;32m   2132\u001b[0m             \u001b[1;31m# either boolean or fancy integer index\u001b[0m\u001b[1;33m\u001b[0m\u001b[1;33m\u001b[0m\u001b[0m\n\u001b[1;32m-> 2133\u001b[1;33m             \u001b[1;32mreturn\u001b[0m \u001b[0mself\u001b[0m\u001b[1;33m.\u001b[0m\u001b[0m_getitem_array\u001b[0m\u001b[1;33m(\u001b[0m\u001b[0mkey\u001b[0m\u001b[1;33m)\u001b[0m\u001b[1;33m\u001b[0m\u001b[0m\n\u001b[0m\u001b[0;32m   2134\u001b[0m         \u001b[1;32melif\u001b[0m \u001b[0misinstance\u001b[0m\u001b[1;33m(\u001b[0m\u001b[0mkey\u001b[0m\u001b[1;33m,\u001b[0m \u001b[0mDataFrame\u001b[0m\u001b[1;33m)\u001b[0m\u001b[1;33m:\u001b[0m\u001b[1;33m\u001b[0m\u001b[0m\n\u001b[0;32m   2135\u001b[0m             \u001b[1;32mreturn\u001b[0m \u001b[0mself\u001b[0m\u001b[1;33m.\u001b[0m\u001b[0m_getitem_frame\u001b[0m\u001b[1;33m(\u001b[0m\u001b[0mkey\u001b[0m\u001b[1;33m)\u001b[0m\u001b[1;33m\u001b[0m\u001b[0m\n",
      "\u001b[1;32mC:\\ProgramData\\Anaconda3\\lib\\site-packages\\pandas\\core\\frame.py\u001b[0m in \u001b[0;36m_getitem_array\u001b[1;34m(self, key)\u001b[0m\n\u001b[0;32m   2175\u001b[0m             \u001b[1;32mreturn\u001b[0m \u001b[0mself\u001b[0m\u001b[1;33m.\u001b[0m\u001b[0m_take\u001b[0m\u001b[1;33m(\u001b[0m\u001b[0mindexer\u001b[0m\u001b[1;33m,\u001b[0m \u001b[0maxis\u001b[0m\u001b[1;33m=\u001b[0m\u001b[1;36m0\u001b[0m\u001b[1;33m,\u001b[0m \u001b[0mconvert\u001b[0m\u001b[1;33m=\u001b[0m\u001b[1;32mFalse\u001b[0m\u001b[1;33m)\u001b[0m\u001b[1;33m\u001b[0m\u001b[0m\n\u001b[0;32m   2176\u001b[0m         \u001b[1;32melse\u001b[0m\u001b[1;33m:\u001b[0m\u001b[1;33m\u001b[0m\u001b[0m\n\u001b[1;32m-> 2177\u001b[1;33m             \u001b[0mindexer\u001b[0m \u001b[1;33m=\u001b[0m \u001b[0mself\u001b[0m\u001b[1;33m.\u001b[0m\u001b[0mloc\u001b[0m\u001b[1;33m.\u001b[0m\u001b[0m_convert_to_indexer\u001b[0m\u001b[1;33m(\u001b[0m\u001b[0mkey\u001b[0m\u001b[1;33m,\u001b[0m \u001b[0maxis\u001b[0m\u001b[1;33m=\u001b[0m\u001b[1;36m1\u001b[0m\u001b[1;33m)\u001b[0m\u001b[1;33m\u001b[0m\u001b[0m\n\u001b[0m\u001b[0;32m   2178\u001b[0m             \u001b[1;32mreturn\u001b[0m \u001b[0mself\u001b[0m\u001b[1;33m.\u001b[0m\u001b[0m_take\u001b[0m\u001b[1;33m(\u001b[0m\u001b[0mindexer\u001b[0m\u001b[1;33m,\u001b[0m \u001b[0maxis\u001b[0m\u001b[1;33m=\u001b[0m\u001b[1;36m1\u001b[0m\u001b[1;33m,\u001b[0m \u001b[0mconvert\u001b[0m\u001b[1;33m=\u001b[0m\u001b[1;32mTrue\u001b[0m\u001b[1;33m)\u001b[0m\u001b[1;33m\u001b[0m\u001b[0m\n\u001b[0;32m   2179\u001b[0m \u001b[1;33m\u001b[0m\u001b[0m\n",
      "\u001b[1;32mC:\\ProgramData\\Anaconda3\\lib\\site-packages\\pandas\\core\\indexing.py\u001b[0m in \u001b[0;36m_convert_to_indexer\u001b[1;34m(self, obj, axis, is_setter)\u001b[0m\n\u001b[0;32m   1267\u001b[0m                 \u001b[1;32mif\u001b[0m \u001b[0mmask\u001b[0m\u001b[1;33m.\u001b[0m\u001b[0many\u001b[0m\u001b[1;33m(\u001b[0m\u001b[1;33m)\u001b[0m\u001b[1;33m:\u001b[0m\u001b[1;33m\u001b[0m\u001b[0m\n\u001b[0;32m   1268\u001b[0m                     raise KeyError('{mask} not in index'\n\u001b[1;32m-> 1269\u001b[1;33m                                    .format(mask=objarr[mask]))\n\u001b[0m\u001b[0;32m   1270\u001b[0m \u001b[1;33m\u001b[0m\u001b[0m\n\u001b[0;32m   1271\u001b[0m                 \u001b[1;32mreturn\u001b[0m \u001b[0m_values_from_object\u001b[0m\u001b[1;33m(\u001b[0m\u001b[0mindexer\u001b[0m\u001b[1;33m)\u001b[0m\u001b[1;33m\u001b[0m\u001b[0m\n",
      "\u001b[1;31mKeyError\u001b[0m: \"['Record_ID'] not in index\""
     ]
    }
   ],
   "source": [
    "if run_mode in ['comparer','comparer_truths']:\n",
    "    compared_dict, matcher_truths_dict = aggf.tag_and_compare_addresses(file_location_raw_addresses_1, file_location_raw_addresses_2, file_name_ground_truth_matches, use_raw_address_files, num_rndm_addresses_to_create, field_name_record_id, field_name_raw_addresses, standardize_addresses, run_mode)\n",
    "    if write_output_to_excel:\n",
    "        output_name = 'output\\\\raw_to_matched_addresses.xlsx'\n",
    "        tagger_writer = pd.ExcelWriter(output_name, engine='xlsxwriter')\n",
    "        for sheet, frame in compared_dict.items():\n",
    "            frame.to_excel(tagger_writer, sheet_name=sheet)\n",
    "        tagger_writer.save()\n",
    "    else:\n",
    "        for sheet, frame in compared_dict.items():\n",
    "            print (\"sheet name = \", sheet)\n",
    "            print (frame)\n",
    "\n",
    "    if run_mode == 'comparer_truths':\n",
    "        if write_output_to_excel:\n",
    "            output_name = 'output\\\\modeled_matches_vs_ground_truths.xlsx'\n",
    "            tagger_writer = pd.ExcelWriter(output_name, engine='xlsxwriter')\n",
    "            for sheet, frame in matcher_truths_dict.items():\n",
    "                frame.to_excel(tagger_writer, sheet_name=sheet)\n",
    "            tagger_writer.save()\n",
    "        else:\n",
    "            for sheet, frame in matcher_truths_dict.items():\n",
    "                print (\"sheet name = \", sheet)\n",
    "                print (frame)"
   ]
  },
  {
   "cell_type": "code",
   "execution_count": null,
   "metadata": {
    "collapsed": true
   },
   "outputs": [],
   "source": [
    "if run_mode == 'all':\n",
    "    tag_truths1_dict, tag_truths2_dict, compared_dict, matcher_truths_dict = aggf.tag_vs_truths_and_compare_addresses(file_location_raw_addresses_1, file_location_raw_addresses_2, file_name_ground_truth_matches, use_raw_address_files, num_rndm_addresses_to_create, field_name_record_id, field_name_raw_addresses, standardize_addresses, run_mode)\n",
    "    if write_output_to_excel:\n",
    "        output_name = 'output\\\\file_1_tagger_vs_truths.xlsx'\n",
    "        tagger_writer = pd.ExcelWriter(output_name, engine='xlsxwriter')\n",
    "        for sheet, frame in tag_truths1_dict.items():\n",
    "            frame.to_excel(tagger_writer, sheet_name=sheet)\n",
    "        tagger_writer.save()\n",
    "        \n",
    "        output_name = 'output\\\\file_2_tagger_vs_truths.xlsx'\n",
    "        tagger_writer = pd.ExcelWriter(output_name, engine='xlsxwriter')\n",
    "        for sheet, frame in tag_truths2_dict.items():\n",
    "            frame.to_excel(tagger_writer, sheet_name=sheet)\n",
    "        tagger_writer.save()\n",
    "        \n",
    "        output_name = 'output\\\\raw_to_matched_addresses.xlsx'\n",
    "        tagger_writer = pd.ExcelWriter(output_name, engine='xlsxwriter')\n",
    "        for sheet, frame in compared_dict.items():\n",
    "            frame.to_excel(tagger_writer, sheet_name=sheet)\n",
    "        tagger_writer.save()\n",
    "        \n",
    "        output_name = 'output\\\\modeled_matches_vs_ground_truths.xlsx'\n",
    "        tagger_writer = pd.ExcelWriter(output_name, engine='xlsxwriter')\n",
    "        for sheet, frame in matcher_truths_dict.items():\n",
    "            frame.to_excel(tagger_writer, sheet_name=sheet)\n",
    "        tagger_writer.save()\n",
    "    else:\n",
    "        for sheet, frame in tag_truths1_dict.items():\n",
    "            print (\"sheet name = \", sheet)\n",
    "            print (frame)\n",
    "\n",
    "        for sheet, frame in tag_truths2_dict.items():\n",
    "            print (\"sheet name = \", sheet)\n",
    "            print (frame)\n",
    "            \n",
    "        for sheet, frame in compared_dict.items():\n",
    "            print (\"sheet name = \", sheet)\n",
    "            print (frame)\n",
    "            \n",
    "        for sheet, frame in matcher_truths_dict.items():\n",
    "            print (\"sheet name = \", sheet)\n",
    "            print (frame)"
   ]
  }
 ],
 "metadata": {
  "kernelspec": {
   "display_name": "Python 3",
   "language": "python",
   "name": "python3"
  },
  "language_info": {
   "codemirror_mode": {
    "name": "ipython",
    "version": 3
   },
   "file_extension": ".py",
   "mimetype": "text/x-python",
   "name": "python",
   "nbconvert_exporter": "python",
   "pygments_lexer": "ipython3",
   "version": "3.6.1"
  }
 },
 "nbformat": 4,
 "nbformat_minor": 2
}
