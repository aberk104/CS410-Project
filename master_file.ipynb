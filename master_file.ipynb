{
 "cells": [
  {
   "cell_type": "markdown",
   "metadata": {},
   "source": [
    "The master_file is an example of how the address_compare library can be used to load training and test data, tag the addresses, standardize the addresses, and compare the different address lists.  It can serve as a reusable program by updating the input parameters.  If ground truth files are available, it will also show how well the tagger and compare functions perform."
   ]
  },
  {
   "cell_type": "code",
   "execution_count": 1,
   "metadata": {},
   "outputs": [
    {
     "name": "stdout",
     "output_type": "stream",
     "text": [
      "                address_1                 address_2  match\n",
      "0      #A, 59767 62 AVE S     PH A - 59767 62 AVE S   True\n",
      "1      #A, 59767 62 AVE S   PH A - 59767 62nd AVE S   True\n",
      "2      #A, 59767 62 AVE S       PH A-59767 62 AVE S   True\n",
      "3      #A, 59767 62 AVE S     PH A-59767 62nd AVE S   True\n",
      "4      #A, 59767 62 AVE S      PH A, 59767 62 AVE S   True\n",
      "5      #A, 59767 62 AVE S    PH A, 59767 62nd AVE S   True\n",
      "6      #A, 59767 62 AVE S      59767 62 AVE S, PH A   True\n",
      "7      #A, 59767 62 AVE S    59767 62nd AVE S, PH A   True\n",
      "8      #A, 59767 62 AVE S        A - 59767 62 AVE S   True\n",
      "9      #A, 59767 62 AVE S      A - 59767 62nd AVE S   True\n",
      "10  PH A - 59767 62 AVE S       PH A-59767 62 AVE S   True\n",
      "11  PH A - 59767 62 AVE S     PH A-59767 62nd AVE S   True\n",
      "12  PH A - 59767 62 AVE S      PH A, 59767 62 AVE S   True\n",
      "13  PH A - 59767 62 AVE S    PH A, 59767 62nd AVE S   True\n",
      "14  PH A - 59767 62 AVE S      59767 62 AVE S, PH A   True\n",
      "15  PH A - 59767 62 AVE S    59767 62nd AVE S, PH A   True\n",
      "16  PH A - 59767 62 AVE S        A - 59767 62 AVE S   True\n",
      "17  PH A - 59767 62 AVE S      A - 59767 62nd AVE S   True\n",
      "18    PH A-59767 62 AVE S      PH A, 59767 62 AVE S   True\n",
      "19    PH A-59767 62 AVE S    PH A, 59767 62nd AVE S   True\n",
      "20    PH A-59767 62 AVE S      59767 62 AVE S, PH A   True\n",
      "21    PH A-59767 62 AVE S    59767 62nd AVE S, PH A   True\n",
      "22    PH A-59767 62 AVE S        A - 59767 62 AVE S   True\n",
      "23    PH A-59767 62 AVE S      A - 59767 62nd AVE S   True\n",
      "24   PH A, 59767 62 AVE S      59767 62 AVE S, PH A   True\n",
      "25   PH A, 59767 62 AVE S    59767 62nd AVE S, PH A   True\n",
      "26   PH A, 59767 62 AVE S        A - 59767 62 AVE S   True\n",
      "27   PH A, 59767 62 AVE S      A - 59767 62nd AVE S   True\n",
      "28   59767 62 AVE S, PH A        A - 59767 62 AVE S   True\n",
      "29   59767 62 AVE S, PH A      A - 59767 62nd AVE S   True\n",
      "30   59767 62 AVE S, PH A      #A, 59767 62nd AVE S   True\n",
      "31     #A, 59767 62 AVE S      59768 62 AVE S, PH A  False\n",
      "32   PH A, 59767 62 AVE S    PH A-5977.7 62nd AVE S  False\n",
      "33   PH A, 59767 62 AVE S       A4 - 59767 62 AVE S  False\n",
      "34     A - 59767 62 AVE S     A7 - 59767 62nd AVE S  False\n",
      "35   PH A, 59767 62 AVE S     PH A - 59767 75 AVE S  False\n",
      "36    PH A-59767 62 AVE S     PH A, 59767 62 PKWY S  False\n",
      "37     A - 59767 62 AVE S       #A, 59767 S 62 AVE   False\n",
      "38    PH A-59767 62 AVE S       PH A-59767 62 AVE N  False\n",
      "39     A - 59767 62 AVE S        59767 - A 62 AVE S  False\n",
      "40    PH A-59767 62 AVE S  1332 - 96086 FULTON DR S  False\n",
      "41    PH A-59767 62 AVE S  #B, 60363 N FULTON PKWY   False\n",
      "42   59767 62 AVE S, PH A    STE A-83189 MAIN AVE E  False\n",
      "43    PH A-59767 62 AVE S       B - 16608 NW C AVE   False\n"
     ]
    }
   ],
   "source": [
    "from address_compare import aggregate_functions as aggf\n",
    "import pandas as pd"
   ]
  },
  {
   "cell_type": "markdown",
   "metadata": {},
   "source": [
    "Although this notebook is an example of how to use the address_compare library, the following parameters can be changed in order to control the inputs and outputs.  I.e., the following parameters allow this file to be a reusable program sitting on top of the address_compare library.\n",
    "\n",
    "\n",
    "The **run_mode** variable controls which portions of this notebook are run.  Options are:\n",
    "- **'tagger'** = run the address tagger against a single file that also contains the ground truths.  output will show how well the tagger did against the ground truths.  tagger will only run against the file found in @file_location_raw_addresses_1\n",
    "- **'comparer'** = tag 2 separate lists of addresses and find matches between the lists.  no ground truths for comparisons.  no tagger ground truths or match ground truths included. program will run against both @file_location_raw_addresses_1 and @file_location_raw_addresses_2\n",
    "- **'comparer_truths'** = run the comparer and validate the matcher performance against the ground truths. program will run against both @file_location_raw_addresses_1 and @file_location_raw_addresses_2.  in addition, the matched ground truths will be found in @file_name_ground_truth_matches\n",
    "- **'all'** = runs all 3 modes.  i.e., tagger results compared against the ground truths and the matcher results compared against the ground truths.  program will run against both @file_location_raw_addresses_1 and @file_location_raw_addresses_2. in addition, the matched ground truths will be found in @file_name_ground_truth_matches"
   ]
  },
  {
   "cell_type": "code",
   "execution_count": 2,
   "metadata": {
    "collapsed": true
   },
   "outputs": [],
   "source": [
    "run_mode = 'comparer' #choose from ['tagger','comparer','comparer_truths','all']\n",
    "\n",
    "\n",
    "standardize_addresses = True #if True, the tagged address components will be standardized (changed to upper case, unit types, street types, etc. changed to long form names)\n",
    "\n",
    "use_raw_address_files = True #if False, only the specified number of randomly created addresses above will be used; False only works with the 'comparer' run_mode\n",
    "num_rndm_addresses_to_create = 100 #if use_raw_address_files = False, the number of addresses that will be randomly created for use in the tagger and compare functions\n",
    "\n",
    "field_name_raw_addresses = 'Single String Address' #represents the name of the field in the raw address files containing the raw address (street information)\n",
    "field_name_record_id = 'Record_ID' #represents the name of the field containing the Record ID in the raw files; if not present in the raw files, populate with None\n",
    "\n",
    "#file_location_raw_addresses_1 = 'data\\\\standardized tagged washington state addresses.xlsx'\n",
    "#file_location_raw_addresses_1 = 'data\\\\tagged standardized colorado Stores.xlsx'\n",
    "file_location_raw_addresses_1 = 'data\\\\MarijuanaApplicants - test data list 1 - copy.xlsx'\n",
    "file_location_raw_addresses_2 = 'data\\\\MarijuanaApplicants - test data list 2 - copy.xlsx'\n",
    "\n",
    "file_name_ground_truth_matches = 'data\\\\marijuana applicants test data - correct matches.xlsx'\n",
    "\n",
    "write_output_to_excel = True #if True, the output from the applicable modes will be written to Excel; otherwise, results will be printed in the notebook"
   ]
  },
  {
   "cell_type": "code",
   "execution_count": 3,
   "metadata": {
    "collapsed": true
   },
   "outputs": [],
   "source": [
    "if run_mode == 'tagger':\n",
    "    df_dict = aggf.tagger_vs_ground_truths(file_location_raw_addresses_1, field_name_record_id, field_name_raw_addresses, standardize_addresses)\n",
    "    if write_output_to_excel:\n",
    "        output_name = 'output\\\\file_1_tagger_vs_truths.xlsx'\n",
    "        tagger_writer = pd.ExcelWriter(output_name, engine='xlsxwriter')\n",
    "        for sheet, frame in df_dict.items():\n",
    "            frame.to_excel(tagger_writer, sheet_name=sheet)\n",
    "        tagger_writer.save()\n",
    "    else:\n",
    "        for sheet, frame in df_dict.items():\n",
    "            print (\"sheet name = \", sheet)\n",
    "            print (frame)"
   ]
  },
  {
   "cell_type": "code",
   "execution_count": 4,
   "metadata": {},
   "outputs": [],
   "source": [
    "if run_mode in ['comparer','comparer_truths']:\n",
    "    compared_dict, matcher_truths_dict = aggf.tag_and_compare_addresses(file_location_raw_addresses_1, file_location_raw_addresses_2, file_name_ground_truth_matches, use_raw_address_files, num_rndm_addresses_to_create, field_name_record_id, field_name_raw_addresses, standardize_addresses, run_mode)\n",
    "    if write_output_to_excel:\n",
    "        output_name = 'output\\\\raw_to_matched_addresses.xlsx'\n",
    "        tagger_writer = pd.ExcelWriter(output_name, engine='xlsxwriter')\n",
    "        for sheet, frame in compared_dict.items():\n",
    "            frame.to_excel(tagger_writer, sheet_name=sheet)\n",
    "        tagger_writer.save()\n",
    "    else:\n",
    "        for sheet, frame in compared_dict.items():\n",
    "            print (\"sheet name = \", sheet)\n",
    "            print (frame)\n",
    "\n",
    "    if run_mode == 'comparer_truths':\n",
    "        if write_output_to_excel:\n",
    "            output_name = 'output\\\\modeled_matches_vs_ground_truths.xlsx'\n",
    "            tagger_writer = pd.ExcelWriter(output_name, engine='xlsxwriter')\n",
    "            for sheet, frame in matcher_truths_dict.items():\n",
    "                frame.to_excel(tagger_writer, sheet_name=sheet)\n",
    "            tagger_writer.save()\n",
    "        else:\n",
    "            for sheet, frame in matcher_truths_dict.items():\n",
    "                print (\"sheet name = \", sheet)\n",
    "                print (frame)"
   ]
  },
  {
   "cell_type": "code",
   "execution_count": 5,
   "metadata": {
    "collapsed": true
   },
   "outputs": [],
   "source": [
    "if run_mode == 'all':\n",
    "    tag_truths1_dict, tag_truths2_dict, compared_dict, matcher_truths_dict = aggf.tag_vs_truths_and_compare_addresses(file_location_raw_addresses_1, file_location_raw_addresses_2, file_name_ground_truth_matches, use_raw_address_files, num_rndm_addresses_to_create, field_name_record_id, field_name_raw_addresses, standardize_addresses, run_mode)\n",
    "    if write_output_to_excel:\n",
    "        output_name = 'output\\\\file_1_tagger_vs_truths.xlsx'\n",
    "        tagger_writer = pd.ExcelWriter(output_name, engine='xlsxwriter')\n",
    "        for sheet, frame in tag_truths1_dict.items():\n",
    "            frame.to_excel(tagger_writer, sheet_name=sheet)\n",
    "        tagger_writer.save()\n",
    "        \n",
    "        output_name = 'output\\\\file_2_tagger_vs_truths.xlsx'\n",
    "        tagger_writer = pd.ExcelWriter(output_name, engine='xlsxwriter')\n",
    "        for sheet, frame in tag_truths2_dict.items():\n",
    "            frame.to_excel(tagger_writer, sheet_name=sheet)\n",
    "        tagger_writer.save()\n",
    "        \n",
    "        output_name = 'output\\\\raw_to_matched_addresses.xlsx'\n",
    "        tagger_writer = pd.ExcelWriter(output_name, engine='xlsxwriter')\n",
    "        for sheet, frame in compared_dict.items():\n",
    "            frame.to_excel(tagger_writer, sheet_name=sheet)\n",
    "        tagger_writer.save()\n",
    "        \n",
    "        output_name = 'output\\\\modeled_matches_vs_ground_truths.xlsx'\n",
    "        tagger_writer = pd.ExcelWriter(output_name, engine='xlsxwriter')\n",
    "        for sheet, frame in matcher_truths_dict.items():\n",
    "            frame.to_excel(tagger_writer, sheet_name=sheet)\n",
    "        tagger_writer.save()\n",
    "    else:\n",
    "        for sheet, frame in tag_truths1_dict.items():\n",
    "            print (\"sheet name = \", sheet)\n",
    "            print (frame)\n",
    "\n",
    "        for sheet, frame in tag_truths2_dict.items():\n",
    "            print (\"sheet name = \", sheet)\n",
    "            print (frame)\n",
    "            \n",
    "        for sheet, frame in compared_dict.items():\n",
    "            print (\"sheet name = \", sheet)\n",
    "            print (frame)\n",
    "            \n",
    "        for sheet, frame in matcher_truths_dict.items():\n",
    "            print (\"sheet name = \", sheet)\n",
    "            print (frame)"
   ]
  }
 ],
 "metadata": {
  "kernelspec": {
   "display_name": "Python 3",
   "language": "python",
   "name": "python3"
  },
  "language_info": {
   "codemirror_mode": {
    "name": "ipython",
    "version": 3
   },
   "file_extension": ".py",
   "mimetype": "text/x-python",
   "name": "python",
   "nbconvert_exporter": "python",
   "pygments_lexer": "ipython3",
   "version": "3.6.1"
  }
 },
 "nbformat": 4,
 "nbformat_minor": 2
}
