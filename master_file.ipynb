{
 "cells": [
  {
   "cell_type": "markdown",
   "metadata": {},
   "source": [
    "The master_file is an example of how the address_compare library can be used to load training and test data, tag the addresses, standardize the addresses, and compare the different address lists.  It can serve as a reusable program by updating the input parameters.  If ground truth files are available, it will also show how well the tagger and compare functions perform."
   ]
  },
  {
   "cell_type": "code",
   "execution_count": 1,
   "metadata": {},
   "outputs": [
    {
     "name": "stderr",
     "output_type": "stream",
     "text": [
      "C:\\ProgramData\\Anaconda3\\lib\\site-packages\\sklearn\\base.py:311: UserWarning: Trying to unpickle estimator DecisionTreeClassifier from version 0.18.1 when using version 0.19.1. This might lead to breaking code or invalid results. Use at your own risk.\n",
      "  UserWarning)\n",
      "C:\\ProgramData\\Anaconda3\\lib\\site-packages\\sklearn\\base.py:311: UserWarning: Trying to unpickle estimator RandomForestClassifier from version 0.18.1 when using version 0.19.1. This might lead to breaking code or invalid results. Use at your own risk.\n",
      "  UserWarning)\n"
     ]
    }
   ],
   "source": [
    "from address_compare import aggregate_functions as aggf\n",
    "from address_compare import address_randomizer as add_rndm\n",
    "import pandas as pd"
   ]
  },
  {
   "cell_type": "markdown",
   "metadata": {},
   "source": [
    "### Editable Parameters\n",
    "\n",
    "Although this notebook is an example of how to use the address_compare library (and especially the aggregate functions in the aggregate_functions.py file), the following parameters can be changed in order to control the inputs and outputs.  I.e., the following parameters allow this file to be a reusable program sitting on top of the address_compare library.  A description of each variable is as follows:\n",
    "\n",
    "\n",
    "The **run_mode** variable controls which portions of this notebook are run.  Options are:\n",
    "- **'tagger'** = run the address tagger against a single file that also contains the ground truths.  output will show how well the tagger did against the ground truths.  if using your own files, the fields with the ground truth values should be in the same spreadsheet tab and the field names should be \"Tagged Street Number\", \"Tagged Pre Street Direction\", \"Tagged Street Name\", \"Tagged Street Type\", \"Tagged Post Street Direction\", \"Tagged Unit Type\", \"Tagged  Unit Number\".  Alternatively, this mode can be run using randomly created addresses.\n",
    "\n",
    "- **'comparer'** = tag 2 separate lists of addresses and find matches between the lists.  no ground truths will be used to verify the accuracy of the tagger or the matcher. program will run against both **file_location_raw_addresses_1** and **file_location_raw_addresses_2**.  Alternatively, this mode can be run by using randomly created addresses.\n",
    "\n",
    "- **'comparer_truths'** = run the comparer and validate the matcher performance against the ground truths. program will run against both **file_location_raw_addresses_1** and **file_location_raw_addresses_2**.  in addition, the matched ground truths will be found in **file_name_ground_truth_matches**\n",
    "\n",
    "- **'all'** = runs all 3 modes.  i.e., tagger results compared against the ground truths and the matcher results compared against the ground truths.  program will run against both **file_location_raw_addresses_1** and **file_location_raw_addresses_2**. in addition, the matched ground truths will be found in **file_name_ground_truth_matches**\n",
    "\n",
    "**standardize_addresses** - this variable can be set to True or False determines whether or not the tagged addresses will be standardized (changed to upper case, spelled out street types, directionals, unit types, etc.).  True = the addresses will be standardized\n",
    "\n",
    "**use_raw_address_files** - if True, the files in file_location_raw_addresses_1 and 2 will be used.  If False, the specified number of random addresses in the *num_rndm_addresses_to_create* variable will be randomly created via the model.  The randomly created addresses can only be used if *run_mode* in ['tagger','comparer']\n",
    "\n",
    "**field_name_raw_addresses** - the field name in the files or random addresses containing the single address string to be parsed/standardized\n",
    "\n",
    "**field_name_record_id** - the field name in the files containing the record IDs.  If not present in the files, populate with None\n",
    "\n",
    "**file_location_raw_addresses_1** and **file_location_raw_addresses_2** - the file names and locations of the files to be tagged, standardized, and/or compared.  The default values are to files in the data folder that can be used to see how the address_compare model works\n",
    "\n",
    "**file_name_ground_truth_matches** - this file will be used if *run_mode* == 'comparer_truths' or 'all'.  It contains the ground truth matched record IDs along with a field to denote if the matched records are exact, standardized exact, or inexact matches.\n",
    "\n",
    "**write_output_to_excel** - if True, the output of the specified *run_mode* will be written to excel files in the output folder.  If False, the output will be printed in this notebook\n",
    "\n",
    "**match_5_digit_zip** - if True, the matchers (either the exact or probabilistic matcher) will match the address lists by only using the 5 digit zip codes. If False, the matchers will match the address lists by including all provided zip code digits\n",
    "\n",
    "**matchtype** - this variable controls the type of matching that will be done on the 2 address lists.\n",
    "- **'exact_match'** = a simple function returning only exact matches will be run.  Any difference in the field values between the 2 addresses will not be a match\n",
    "- **'probabilistic_match'** = a learning based function that will return matches that exceed the specified threshold. It utilizes a random forest model to calculate a score that 2 addresses are a match.\n",
    "\n",
    "**prob_threshold** - this variable is only used if **matchtype** == 'probabilistic_match' and can only be between 0 and 1, inclusive. Addresses with a score greater than or equal to the **prob_threshold** will be considered a match."
   ]
  },
  {
   "cell_type": "code",
   "execution_count": 2,
   "metadata": {
    "collapsed": true
   },
   "outputs": [],
   "source": [
    "run_mode = 'comparer_truths' #choose from ['tagger','comparer','comparer_truths','all']\n",
    "\n",
    "\n",
    "standardize_addresses = True #if True, the tagged address components will be standardized (changed to upper case, unit types, street types, etc. changed to long form names)\n",
    "\n",
    "use_raw_address_files = True #if False, only the specified number of randomly created addresses above will be used; False only works with the 'comparer' run_mode\n",
    "num_rndm_addresses_to_create = 1000 #if use_raw_address_files = False, the number of addresses that will be randomly created for use in the tagger and compare functions\n",
    "\n",
    "field_name_raw_addresses = 'Single String Address' #represents the name of the field in the raw address files containing the raw address (street information)\n",
    "field_name_record_id = 'Record_ID' #represents the name of the field containing the Record ID in the raw files; if not present in the raw files, populate with None\n",
    "\n",
    "#file_location_raw_addresses_1 = 'data\\\\stnd tagged WA addresses - hwy as st type.xlsx'\n",
    "#file_location_raw_addresses_1 = 'data\\\\tagged stnd CO Stores - hwy as street type.xlsx'\n",
    "file_location_raw_addresses_1 = 'data\\\\MarijuanaApplicants - test data list 1.xlsx'\n",
    "file_location_raw_addresses_2 = 'data\\\\MarijuanaApplicants - test data list 2.xlsx'\n",
    "\n",
    "file_name_ground_truth_matches = 'data\\\\marijuana applicants test data - correct matches.xlsx'\n",
    "\n",
    "write_output_to_excel = True #if True, the output from the applicable modes will be written to Excel; otherwise, results will be printed in the notebook\n",
    "\n",
    "match_5_digit_zip = True #if True, the matchers will only look at the 5 digit zips; if False, the matchers will look at all provided digits\n",
    "\n",
    "matchtype = 'probabilistic_match' #choose from ['exact_match','probabilistic_match']\n",
    "prob_threshold = 0.95 #choose a value between 0 and 1, inclusive"
   ]
  },
  {
   "cell_type": "markdown",
   "metadata": {},
   "source": [
    "### Tagger Run Mode\n",
    "\n",
    "The following cell depicts an example using the tagger_vs_ground_truths aggregate function (the tagger_vs_ground_truths function is a single function using various components from the address_compare folder).  \n",
    "- This function starts with a single file containing the single string address (the unparsed address), city, state, zip_code, as well as the Tagged versions of each record (i.e., the ground truths).  This mode will allow the user to start with randomly created addresses (setting **use_raw_address_files** == False)\n",
    "- The function parses and tags each component of the single string address, standardizes the components if standardize_addresses == \"True\", compares the tagged components to the ground truths, and calculates applicable metrics (true positives = correct tag from the model [non-blanks] with the same non-blank tag in the ground truths).  \n",
    "- Depending on whether the write_output_to_excel is set to true or false, the function results will either be written to excel or printed within the cell below."
   ]
  },
  {
   "cell_type": "code",
   "execution_count": 3,
   "metadata": {
    "collapsed": true
   },
   "outputs": [],
   "source": [
    "if run_mode == 'tagger':\n",
    "    if not use_raw_address_files:\n",
    "        randomized_addresses1 = add_rndm.random_addresses(num_rndm_addresses_to_create, field_name_raw_addresses)\n",
    "        file_location_raw_addresses_1 = 'data\\\\randomized_addresses_list_1.xlsx'\n",
    "        randomized_addresses1.to_excel(file_location_raw_addresses_1)\n",
    "        \n",
    "    df_dict = aggf.tagger_vs_ground_truths(file_location_raw_addresses_1, field_name_record_id, field_name_raw_addresses, standardize_addresses)\n",
    "    if write_output_to_excel:\n",
    "        output_name = 'output\\\\file_1_tagger_vs_truths.xlsx'\n",
    "        tagger_writer = pd.ExcelWriter(output_name, engine='xlsxwriter')\n",
    "        for sheet, frame in df_dict.items():\n",
    "            frame.to_excel(tagger_writer, sheet_name=sheet)\n",
    "        tagger_writer.save()\n",
    "    else:\n",
    "        for sheet, frame in df_dict.items():\n",
    "            print (\"sheet name = \", sheet)\n",
    "            print (frame)"
   ]
  },
  {
   "cell_type": "markdown",
   "metadata": {},
   "source": [
    "### Comparer and Comparer_Truths Run Modes\n",
    "The following cell depicts an example using the tag_and_compare_addresses aggregatae function (the tag_and_compare_addresses is a single function using various components from the address_compare folder).\n",
    "\n",
    "- This function starts with 2 files containing the unparsed/untagged addresses, along with the cities, states, and zip_codes.  For the 'comparer' mode only, randomly created addresses can be used in place of source files.\n",
    "- The raw addresses are parsed into their components and tagged.  If standardize_addresses == \"True\", the address components will be standardized.\n",
    "- The cities will also be standardized by using the 'primary_city' for the corresponding zip_code from the USPS.  If the provided zip_code is not valid for the listed state, it will be logged as an error via the standardization.\n",
    "- Once parsed, tagged, and standardized, an exact match will be run against the 2 lists to find matches.  Exact Matches will be split out from the remaining addresses that were unable to be matched in the output.\n",
    "- If run_mode == 'comparer_truths', the exact matches found above will be compared against the ground truth matches.  Applicable metrics will be calculated to show how well the model did against the ground truths (true positives = an exact match from the model and an exact match in the ground truths).\n",
    "- Depending on whether the write_output_to_excel is set to be true or false, the function results will either be written to excel or printed within the cell below."
   ]
  },
  {
   "cell_type": "code",
   "execution_count": 4,
   "metadata": {},
   "outputs": [],
   "source": [
    "if run_mode in ['comparer','comparer_truths']:\n",
    "    if not use_raw_address_files:\n",
    "        randomized_addresses1 = add_rndm.random_addresses(num_rndm_addresses_to_create, field_name_raw_addresses)\n",
    "        file_location_raw_addresses_1 = 'data\\\\randomized_addresses_list_1.xlsx'\n",
    "        randomized_addresses1.to_excel(file_location_raw_addresses_1)\n",
    "        \n",
    "        randomized_addresses2 = add_rndm.random_addresses(num_rndm_addresses_to_create, field_name_raw_addresses)\n",
    "        file_location_raw_addresses_2 = 'data\\\\randomized_addresses_list_2.xlsx'\n",
    "        randomized_addresses2.to_excel(file_location_raw_addresses_2)\n",
    "        \n",
    "    compared_dict, matcher_truths_dict = aggf.tag_and_compare_addresses(file_location_raw_addresses_1, file_location_raw_addresses_2, file_name_ground_truth_matches, field_name_record_id, field_name_raw_addresses, standardize_addresses, run_mode, matchtype=matchtype, threshold=prob_threshold, match5zip=match_5_digit_zip)\n",
    "    if write_output_to_excel:\n",
    "        output_name = 'output\\\\raw_to_matched_addresses.xlsx'\n",
    "        tagger_writer = pd.ExcelWriter(output_name, engine='xlsxwriter')\n",
    "        for sheet, frame in compared_dict.items():\n",
    "            frame.to_excel(tagger_writer, sheet_name=sheet)\n",
    "        tagger_writer.save()\n",
    "    else:\n",
    "        for sheet, frame in compared_dict.items():\n",
    "            print (\"sheet name = \", sheet)\n",
    "            print (frame)\n",
    "\n",
    "    if run_mode == 'comparer_truths':\n",
    "        if write_output_to_excel:\n",
    "            output_name = 'output\\\\modeled_matches_vs_ground_truths.xlsx'\n",
    "            tagger_writer = pd.ExcelWriter(output_name, engine='xlsxwriter')\n",
    "            for sheet, frame in matcher_truths_dict.items():\n",
    "                frame.to_excel(tagger_writer, sheet_name=sheet)\n",
    "            tagger_writer.save()\n",
    "        else:\n",
    "            for sheet, frame in matcher_truths_dict.items():\n",
    "                print (\"sheet name = \", sheet)\n",
    "                print (frame)"
   ]
  },
  {
   "cell_type": "markdown",
   "metadata": {},
   "source": [
    "### 'All' Run Mode\n",
    "The following cell depicts an example using the tag_vs_truths_and_compare_addresses aggregate function (the tag_vs_truths_and_compare_addresses is a single function using various components from the address_compare folder).  This function is equivalent to the 'tagger' run_mode against both input files and then the 'comparer_truths' run_model against the the input files.  I.e., it will depict how well the tagger performed against both input files followed by matching the addresses and showing the matcher performance against the ground truths."
   ]
  },
  {
   "cell_type": "code",
   "execution_count": 5,
   "metadata": {
    "collapsed": true
   },
   "outputs": [],
   "source": [
    "if run_mode == 'all':\n",
    "    tag_truths1_dict, tag_truths2_dict, compared_dict, matcher_truths_dict = aggf.tag_vs_truths_and_compare_addresses(file_location_raw_addresses_1, file_location_raw_addresses_2, file_name_ground_truth_matches, use_raw_address_files, num_rndm_addresses_to_create, field_name_record_id, field_name_raw_addresses, standardize_addresses, run_mode, matchtype=matchtype, threshold=prob_threshold, match5zip=match_5_digit_zip)\n",
    "    if write_output_to_excel:\n",
    "        output_name = 'output\\\\file_1_tagger_vs_truths.xlsx'\n",
    "        tagger_writer = pd.ExcelWriter(output_name, engine='xlsxwriter')\n",
    "        for sheet, frame in tag_truths1_dict.items():\n",
    "            frame.to_excel(tagger_writer, sheet_name=sheet)\n",
    "        tagger_writer.save()\n",
    "        \n",
    "        output_name = 'output\\\\file_2_tagger_vs_truths.xlsx'\n",
    "        tagger_writer = pd.ExcelWriter(output_name, engine='xlsxwriter')\n",
    "        for sheet, frame in tag_truths2_dict.items():\n",
    "            frame.to_excel(tagger_writer, sheet_name=sheet)\n",
    "        tagger_writer.save()\n",
    "        \n",
    "        output_name = 'output\\\\raw_to_matched_addresses.xlsx'\n",
    "        tagger_writer = pd.ExcelWriter(output_name, engine='xlsxwriter')\n",
    "        for sheet, frame in compared_dict.items():\n",
    "            frame.to_excel(tagger_writer, sheet_name=sheet)\n",
    "        tagger_writer.save()\n",
    "        \n",
    "        output_name = 'output\\\\modeled_matches_vs_ground_truths.xlsx'\n",
    "        tagger_writer = pd.ExcelWriter(output_name, engine='xlsxwriter')\n",
    "        for sheet, frame in matcher_truths_dict.items():\n",
    "            frame.to_excel(tagger_writer, sheet_name=sheet)\n",
    "        tagger_writer.save()\n",
    "    else:\n",
    "        for sheet, frame in tag_truths1_dict.items():\n",
    "            print (\"sheet name = \", sheet)\n",
    "            print (frame)\n",
    "\n",
    "        for sheet, frame in tag_truths2_dict.items():\n",
    "            print (\"sheet name = \", sheet)\n",
    "            print (frame)\n",
    "            \n",
    "        for sheet, frame in compared_dict.items():\n",
    "            print (\"sheet name = \", sheet)\n",
    "            print (frame)\n",
    "            \n",
    "        for sheet, frame in matcher_truths_dict.items():\n",
    "            print (\"sheet name = \", sheet)\n",
    "            print (frame)"
   ]
  }
 ],
 "metadata": {
  "kernelspec": {
   "display_name": "Python 3",
   "language": "python",
   "name": "python3"
  },
  "language_info": {
   "codemirror_mode": {
    "name": "ipython",
    "version": 3
   },
   "file_extension": ".py",
   "mimetype": "text/x-python",
   "name": "python",
   "nbconvert_exporter": "python",
   "pygments_lexer": "ipython3",
   "version": "3.6.1"
  }
 },
 "nbformat": 4,
 "nbformat_minor": 2
}
