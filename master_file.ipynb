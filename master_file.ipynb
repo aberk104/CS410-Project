{
 "cells": [
  {
   "cell_type": "markdown",
   "metadata": {},
   "source": [
    "The master_file serves as the glue for all other files in the project.  It is the central file to load training and test data, tag the addresses, standardize the addresses, and compare the different address lists."
   ]
  },
  {
   "cell_type": "code",
   "execution_count": 29,
   "metadata": {
    "collapsed": true
   },
   "outputs": [],
   "source": [
    "from collections import defaultdict\n",
    "from address_compare import standardizers as stndrdzr\n",
    "from address_compare import comparers as comps\n",
    "from address_compare import matcher as mtch\n",
    "from address_compare.crf_tagger import AddressTagger\n",
    "import json\n",
    "import pandas as pd"
   ]
  },
  {
   "cell_type": "code",
   "execution_count": 30,
   "metadata": {
    "collapsed": true
   },
   "outputs": [],
   "source": [
    "# Editable parameters to control the functions\n",
    "retrain_crf_tagger = False\n",
    "standardize_addresses = True\n",
    "\n",
    "file_location_raw_addresses_1 = 'address_compare\\\\data\\\\sandbox data.xlsx'\n",
    "raw_address_field_name_list_1 = 'Single String Address'\n",
    "\n",
    "file_location_raw_addresses_2 = 'address_compare\\\\data\\\\sandbox data.xlsx'\n",
    "raw_address_field_name_list_2 = 'Single String Address'"
   ]
  },
  {
   "cell_type": "code",
   "execution_count": 31,
   "metadata": {
    "collapsed": true
   },
   "outputs": [],
   "source": [
    "# Placeholder for reading/calling the training data for the CRF Tagger and sending the training data to train the model\n",
    "if retrain_crf_tagger:\n",
    "    with open('data/tagged_addresses.json') as f:\n",
    "        td = json.load(f)\n",
    "    \n",
    "    #send training data to CRF tagger to train the model here..."
   ]
  },
  {
   "cell_type": "code",
   "execution_count": 32,
   "metadata": {
    "collapsed": true
   },
   "outputs": [],
   "source": [
    "# Placeholder for reading/calling the 2 lists of raw addresses\n",
    "raw_address_list_1 = pd.read_excel(file_location_raw_addresses_1)\n",
    "raw_address_list_2 = pd.read_excel(file_location_raw_addresses_2)"
   ]
  },
  {
   "cell_type": "code",
   "execution_count": 33,
   "metadata": {
    "collapsed": true
   },
   "outputs": [],
   "source": [
    "# Create List for Raw Address Dataframes\n",
    "raw_addresses = [raw_address_list_1, raw_address_list_2]"
   ]
  },
  {
   "cell_type": "code",
   "execution_count": 34,
   "metadata": {},
   "outputs": [],
   "source": [
    "# Add a field called Record_ID if it doesn't already exist in the raw address files\n",
    "for dtfrm in raw_addresses:\n",
    "    dtfrm = stndrdzr.record_id_addition(dtfrm)"
   ]
  },
  {
   "cell_type": "code",
   "execution_count": 35,
   "metadata": {
    "collapsed": true
   },
   "outputs": [],
   "source": [
    "# Add Empty Missing Columns to Dataframe\n",
    "missing_columns = ['CITY','STATE','ZIP_CODE','UNKNOWN']\n",
    "for dtfrm in raw_addresses:\n",
    "    dtfrm = stndrdzr.empty_column_addition(dtfrm, missing_columns)"
   ]
  },
  {
   "cell_type": "code",
   "execution_count": 36,
   "metadata": {
    "collapsed": true
   },
   "outputs": [],
   "source": [
    "# instantiate AddressTagger object with default options, which gives the model trained in `Train CRF Model`.ipynb\n",
    "at = AddressTagger()"
   ]
  },
  {
   "cell_type": "code",
   "execution_count": 37,
   "metadata": {
    "collapsed": true
   },
   "outputs": [],
   "source": [
    "# Placeholder for calling the trained CRF Tagger on the 2 lists of raw addresses\n",
    "tagged_address_list_1 = at.series_to_address_df(raw_address_list_1[raw_address_field_name_list_1], standardize = standardize_addresses)\n",
    "tagged_address_list_2 = at.series_to_address_df(raw_address_list_2[raw_address_field_name_list_2], standardize = standardize_addresses)"
   ]
  },
  {
   "cell_type": "code",
   "execution_count": 38,
   "metadata": {},
   "outputs": [],
   "source": [
    "# Add Remaining Columns from Raw Address Dataframes to Tagged Address Dataframes\n",
    "joined_address_list_1 = tagged_address_list_1.join(raw_address_list_1)\n",
    "joined_address_list_2 = tagged_address_list_2.join(raw_address_list_2)"
   ]
  },
  {
   "cell_type": "code",
   "execution_count": 39,
   "metadata": {},
   "outputs": [
    {
     "name": "stdout",
     "output_type": "stream",
     "text": [
      "   STREET_NUMBER PRE_DIRECTION       STREET_NAME STREET_TYPE POST_DIRECTION  \\\n",
      "0           1732                        BROADWAY                              \n",
      "1            747                        BROADWAY                              \n",
      "2            433                            10TH      AVENUE                  \n",
      "3           1420                            10TH      AVENUE                  \n",
      "4            210                            10TH      STREET                  \n",
      "5            137                            11TH      AVENUE                  \n",
      "6            167                            11TH      AVENUE                  \n",
      "7            319                            11TH       PLACE                  \n",
      "8            129                            12TH      AVENUE                  \n",
      "9              3                BRITISH PROPERTY         WAY                  \n",
      "10          1732                        BROADWAY                              \n",
      "11           747                        BROADWAY                              \n",
      "12           433                            10TH      AVENUE                  \n",
      "13          1420                            10TH      AVENUE                  \n",
      "14           210                            10TH      STREET                  \n",
      "15           137                            11TH      AVENUE                  \n",
      "16           167                            11TH      AVENUE                  \n",
      "17           319                            11TH       PLACE                  \n",
      "18           129                            12TH      AVENUE                  \n",
      "19             3                BRITISH PROPERTY         WAY                  \n",
      "20           167                            11TH      AVENUE                  \n",
      "21           319                            11TH       PLACE                  \n",
      "22           129                            12TH      AVENUE                  \n",
      "23             3                BRITISH PROPERTY         WAY                  \n",
      "24           250                            25TH      AVENUE                  \n",
      "25          2500                        BROADWAY                              \n",
      "\n",
      "    UNIT_TYPE UNIT_NUMBER            Single String Address  Record_ID CITY  \\\n",
      "0       SUITE          20            1732 BROADWAY, STE 20          0        \n",
      "1                                             747 BROADWAY          1        \n",
      "2           5                             5 - 433 10TH AVE          2        \n",
      "3   APARTMENT          20            APT 20, 1420 10TH AVE          3        \n",
      "4    BUILDING           A              210 10TH ST, BLDG A          4        \n",
      "5                      23                 #23 137 11TH AVE          5        \n",
      "6   APARTMENT           A               APT A 167 11TH AVE          6        \n",
      "7        UNIT         123           UNIT 123 - 319 11TH PL          7        \n",
      "8                                             129 12TH AVE          8        \n",
      "9        UNIT          20  3 BRITISH PROPERTY WAY, UNIT 20          9        \n",
      "10      SUITE          20            1732 BROADWAY, STE 20         10        \n",
      "11                                            747 BROADWAY         11        \n",
      "12          5                             5 - 433 10TH AVE         12        \n",
      "13  APARTMENT          20            APT 20, 1420 10TH AVE         13        \n",
      "14   BUILDING           A              210 10TH ST, BLDG A         14        \n",
      "15                     23                 #23 137 11TH AVE         15        \n",
      "16  APARTMENT           A               APT A 167 11TH AVE         16        \n",
      "17       UNIT         123           UNIT 123 - 319 11TH PL         17        \n",
      "18                                            129 12TH AVE         18        \n",
      "19       UNIT          20  3 BRITISH PROPERTY WAY, UNIT 20         19        \n",
      "20  APARTMENT           A               APT A 167 11TH AVE         20        \n",
      "21       UNIT         123           UNIT 123 - 319 11TH PL         21        \n",
      "22                                            129 12TH AVE         22        \n",
      "23       UNIT          20  3 BRITISH PROPERTY WAY, UNIT 20         23        \n",
      "24                                            250 25TH AVE         24        \n",
      "25                                           2500 BROADWAY         25        \n",
      "\n",
      "   STATE ZIP_CODE UNKNOWN  \n",
      "0                          \n",
      "1                          \n",
      "2                          \n",
      "3                          \n",
      "4                          \n",
      "5                          \n",
      "6                          \n",
      "7                          \n",
      "8                          \n",
      "9                          \n",
      "10                         \n",
      "11                         \n",
      "12                         \n",
      "13                         \n",
      "14                         \n",
      "15                         \n",
      "16                         \n",
      "17                         \n",
      "18                         \n",
      "19                         \n",
      "20                         \n",
      "21                         \n",
      "22                         \n",
      "23                         \n",
      "24                         \n",
      "25                         \n"
     ]
    }
   ],
   "source": [
    "print (joined_address_list_1)"
   ]
  },
  {
   "cell_type": "code",
   "execution_count": 40,
   "metadata": {},
   "outputs": [
    {
     "name": "stdout",
     "output_type": "stream",
     "text": [
      "   STREET_NUMBER PRE_DIRECTION       STREET_NAME STREET_TYPE POST_DIRECTION  \\\n",
      "0           1732                        BROADWAY                              \n",
      "1            747                        BROADWAY                              \n",
      "2            433                            10TH      AVENUE                  \n",
      "3           1420                            10TH      AVENUE                  \n",
      "4            210                            10TH      STREET                  \n",
      "5            137                            11TH      AVENUE                  \n",
      "6            167                            11TH      AVENUE                  \n",
      "7            319                            11TH       PLACE                  \n",
      "8            129                            12TH      AVENUE                  \n",
      "9              3                BRITISH PROPERTY         WAY                  \n",
      "10          1732                        BROADWAY                              \n",
      "11           747                        BROADWAY                              \n",
      "12           433                            10TH      AVENUE                  \n",
      "13          1420                            10TH      AVENUE                  \n",
      "14           210                            10TH      STREET                  \n",
      "15           137                            11TH      AVENUE                  \n",
      "16           167                            11TH      AVENUE                  \n",
      "17           319                            11TH       PLACE                  \n",
      "18           129                            12TH      AVENUE                  \n",
      "19             3                BRITISH PROPERTY         WAY                  \n",
      "20           167                            11TH      AVENUE                  \n",
      "21           319                            11TH       PLACE                  \n",
      "22           129                            12TH      AVENUE                  \n",
      "23             3                BRITISH PROPERTY         WAY                  \n",
      "24           250                            25TH      AVENUE                  \n",
      "25          2500                        BROADWAY                              \n",
      "\n",
      "    UNIT_TYPE UNIT_NUMBER            Single String Address  Record_ID CITY  \\\n",
      "0       SUITE          20            1732 BROADWAY, STE 20          0        \n",
      "1                                             747 BROADWAY          1        \n",
      "2           5                             5 - 433 10TH AVE          2        \n",
      "3   APARTMENT          20            APT 20, 1420 10TH AVE          3        \n",
      "4    BUILDING           A              210 10TH ST, BLDG A          4        \n",
      "5                      23                 #23 137 11TH AVE          5        \n",
      "6   APARTMENT           A               APT A 167 11TH AVE          6        \n",
      "7        UNIT         123           UNIT 123 - 319 11TH PL          7        \n",
      "8                                             129 12TH AVE          8        \n",
      "9        UNIT          20  3 BRITISH PROPERTY WAY, UNIT 20          9        \n",
      "10      SUITE          20            1732 BROADWAY, STE 20         10        \n",
      "11                                            747 BROADWAY         11        \n",
      "12          5                             5 - 433 10TH AVE         12        \n",
      "13  APARTMENT          20            APT 20, 1420 10TH AVE         13        \n",
      "14   BUILDING           A              210 10TH ST, BLDG A         14        \n",
      "15                     23                 #23 137 11TH AVE         15        \n",
      "16  APARTMENT           A               APT A 167 11TH AVE         16        \n",
      "17       UNIT         123           UNIT 123 - 319 11TH PL         17        \n",
      "18                                            129 12TH AVE         18        \n",
      "19       UNIT          20  3 BRITISH PROPERTY WAY, UNIT 20         19        \n",
      "20  APARTMENT           A               APT A 167 11TH AVE         20        \n",
      "21       UNIT         123           UNIT 123 - 319 11TH PL         21        \n",
      "22                                            129 12TH AVE         22        \n",
      "23       UNIT          20  3 BRITISH PROPERTY WAY, UNIT 20         23        \n",
      "24                                            250 25TH AVE         24        \n",
      "25                                           2500 BROADWAY         25        \n",
      "\n",
      "   STATE ZIP_CODE UNKNOWN  \n",
      "0                          \n",
      "1                          \n",
      "2                          \n",
      "3                          \n",
      "4                          \n",
      "5                          \n",
      "6                          \n",
      "7                          \n",
      "8                          \n",
      "9                          \n",
      "10                         \n",
      "11                         \n",
      "12                         \n",
      "13                         \n",
      "14                         \n",
      "15                         \n",
      "16                         \n",
      "17                         \n",
      "18                         \n",
      "19                         \n",
      "20                         \n",
      "21                         \n",
      "22                         \n",
      "23                         \n",
      "24                         \n",
      "25                         \n"
     ]
    }
   ],
   "source": [
    "print (joined_address_list_2)"
   ]
  },
  {
   "cell_type": "code",
   "execution_count": 41,
   "metadata": {},
   "outputs": [],
   "source": [
    "# Intra-Grouping of Tagged Address Lists to Consolidate Duplicates\n",
    "grouped_address_list_1 = stndrdzr.consolidate_address_list(joined_address_list_1)\n",
    "grouped_address_list_2 = stndrdzr.consolidate_address_list(joined_address_list_2)"
   ]
  },
  {
   "cell_type": "code",
   "execution_count": 42,
   "metadata": {
    "collapsed": true
   },
   "outputs": [],
   "source": [
    "# Call Either the Exact Match or Learning Match Functions to match the 2 lists\n"
   ]
  }
 ],
 "metadata": {
  "kernelspec": {
   "display_name": "Python 3",
   "language": "python",
   "name": "python3"
  },
  "language_info": {
   "codemirror_mode": {
    "name": "ipython",
    "version": 3
   },
   "file_extension": ".py",
   "mimetype": "text/x-python",
   "name": "python",
   "nbconvert_exporter": "python",
   "pygments_lexer": "ipython3",
   "version": "3.6.1"
  }
 },
 "nbformat": 4,
 "nbformat_minor": 2
}
