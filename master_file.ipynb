{
 "cells": [
  {
   "cell_type": "markdown",
   "metadata": {},
   "source": [
    "The master_file serves as the glue for all other files in the project.  It is the central file to load training and test data, tag the addresses, standardize the addresses, and compare the different address lists."
   ]
  },
  {
   "cell_type": "code",
   "execution_count": 50,
   "metadata": {
    "collapsed": true
   },
   "outputs": [],
   "source": [
    "from collections import defaultdict\n",
    "from address_compare import standardizers as stndrdzr\n",
    "from address_compare import comparers as comps\n",
    "from address_compare import matcher as mtch\n",
    "from address_compare.crf_tagger import AddressTagger\n",
    "import json\n",
    "import pandas as pd"
   ]
  },
  {
   "cell_type": "code",
   "execution_count": 51,
   "metadata": {
    "collapsed": true
   },
   "outputs": [],
   "source": [
    "# Editable parameters to control the functions\n",
    "retrain_crf_tagger = False\n",
    "standardize_addresses = True\n",
    "\n",
    "file_location_raw_addresses_1 = 'address_compare\\\\data\\\\sandbox data.xlsx'\n",
    "raw_address_field_name_list_1 = 'Single String Address'\n",
    "\n",
    "file_location_raw_addresses_2 = 'address_compare\\\\data\\\\sandbox data.xlsx'\n",
    "raw_address_field_name_list_2 = 'Single String Address'"
   ]
  },
  {
   "cell_type": "code",
   "execution_count": 52,
   "metadata": {
    "collapsed": true
   },
   "outputs": [],
   "source": [
    "# Placeholder for reading/calling the training data for the CRF Tagger and sending the training data to train the model\n",
    "if retrain_crf_tagger:\n",
    "    with open('data/tagged_addresses.json') as f:\n",
    "        td = json.load(f)\n",
    "    \n",
    "    #send training data to CRF tagger to train the model here..."
   ]
  },
  {
   "cell_type": "code",
   "execution_count": 53,
   "metadata": {
    "collapsed": true
   },
   "outputs": [],
   "source": [
    "# Placeholder for reading/calling the 2 lists of raw addresses\n",
    "raw_address_list_1 = pd.read_excel(file_location_raw_addresses_1)\n",
    "raw_address_list_2 = pd.read_excel(file_location_raw_addresses_2)"
   ]
  },
  {
   "cell_type": "code",
   "execution_count": 54,
   "metadata": {},
   "outputs": [
    {
     "name": "stdout",
     "output_type": "stream",
     "text": [
      "       Single String Address\n",
      "0          52 Main St Apt 75\n",
      "1               123 Maple Dr\n",
      "2      97531 George Allen Rd\n",
      "3  13579 East Elm Ave Bldg 4\n"
     ]
    }
   ],
   "source": [
    "# Add New Addresses to Raw Address List 2 to Have Differences\n",
    "new_addresses_to_add = pd.DataFrame({'Single String Address': [\"52 Main St Apt 75\",\"123 Maple Dr\",\"97531 George Allen Rd\", \"13579 East Elm Ave Bldg 4\"]})\n",
    "print (new_addresses_to_add)"
   ]
  },
  {
   "cell_type": "code",
   "execution_count": 55,
   "metadata": {},
   "outputs": [
    {
     "name": "stdout",
     "output_type": "stream",
     "text": [
      "              Single String Address\n",
      "0             1732 BROADWAY, STE 20\n",
      "1                      747 BROADWAY\n",
      "2                  5 - 433 10TH AVE\n",
      "3             APT 20, 1420 10TH AVE\n",
      "4               210 10TH ST, BLDG A\n",
      "5                  #23 137 11TH AVE\n",
      "6                APT A 167 11TH AVE\n",
      "7            UNIT 123 - 319 11TH PL\n",
      "8                      129 12TH AVE\n",
      "9   3 BRITISH PROPERTY WAY, UNIT 20\n",
      "10            1732 BROADWAY, STE 20\n",
      "11                     747 BROADWAY\n",
      "12                 5 - 433 10TH AVE\n",
      "13            APT 20, 1420 10TH AVE\n",
      "14              210 10TH ST, BLDG A\n",
      "15                 #23 137 11TH AVE\n",
      "16               APT A 167 11TH AVE\n",
      "17           UNIT 123 - 319 11TH PL\n",
      "18                     129 12TH AVE\n",
      "19  3 BRITISH PROPERTY WAY, UNIT 20\n",
      "20               APT A 167 11TH AVE\n",
      "21           UNIT 123 - 319 11TH PL\n",
      "22                     129 12TH AVE\n",
      "23  3 BRITISH PROPERTY WAY, UNIT 20\n",
      "24                     250 25TH AVE\n",
      "25                    2500 BROADWAY\n",
      "26                52 Main St Apt 75\n",
      "27                     123 Maple Dr\n",
      "28            97531 George Allen Rd\n",
      "29        13579 East Elm Ave Bldg 4\n"
     ]
    }
   ],
   "source": [
    "raw_address_list_2 = raw_address_list_2.append(new_addresses_to_add, ignore_index = True)\n",
    "print (raw_address_list_2)"
   ]
  },
  {
   "cell_type": "code",
   "execution_count": 56,
   "metadata": {
    "collapsed": true
   },
   "outputs": [],
   "source": [
    "# Create List for Raw Address Dataframes\n",
    "raw_addresses = [raw_address_list_1, raw_address_list_2]"
   ]
  },
  {
   "cell_type": "code",
   "execution_count": 57,
   "metadata": {
    "collapsed": true
   },
   "outputs": [],
   "source": [
    "# Add a field called Record_ID if it doesn't already exist in the raw address files\n",
    "for dtfrm in raw_addresses:\n",
    "    dtfrm = stndrdzr.record_id_addition(dtfrm)"
   ]
  },
  {
   "cell_type": "code",
   "execution_count": 58,
   "metadata": {
    "collapsed": true
   },
   "outputs": [],
   "source": [
    "# Add Empty Missing Columns to Dataframe\n",
    "missing_columns = ['CITY','STATE','ZIP_CODE','UNKNOWN']\n",
    "for dtfrm in raw_addresses:\n",
    "    dtfrm = stndrdzr.empty_column_addition(dtfrm, missing_columns)"
   ]
  },
  {
   "cell_type": "code",
   "execution_count": 59,
   "metadata": {
    "collapsed": true
   },
   "outputs": [],
   "source": [
    "# instantiate AddressTagger object with default options, which gives the model trained in `Train CRF Model`.ipynb\n",
    "at = AddressTagger()"
   ]
  },
  {
   "cell_type": "code",
   "execution_count": 60,
   "metadata": {},
   "outputs": [],
   "source": [
    "# Placeholder for calling the trained CRF Tagger on the 2 lists of raw addresses\n",
    "tagged_address_list_1 = at.series_to_address_df(raw_address_list_1[raw_address_field_name_list_1], standardize = standardize_addresses)\n",
    "tagged_address_list_2 = at.series_to_address_df(raw_address_list_2[raw_address_field_name_list_2], standardize = standardize_addresses)"
   ]
  },
  {
   "cell_type": "code",
   "execution_count": 61,
   "metadata": {
    "collapsed": true
   },
   "outputs": [],
   "source": [
    "# Add Remaining Columns from Raw Address Dataframes to Tagged Address Dataframes\n",
    "joined_address_list_1 = tagged_address_list_1.join(raw_address_list_1[['Record_ID','CITY','STATE','ZIP_CODE','UNKNOWN']])\n",
    "joined_address_list_2 = tagged_address_list_2.join(raw_address_list_2[['Record_ID','CITY','STATE','ZIP_CODE','UNKNOWN']])"
   ]
  },
  {
   "cell_type": "code",
   "execution_count": 62,
   "metadata": {},
   "outputs": [
    {
     "name": "stdout",
     "output_type": "stream",
     "text": [
      "   STREET_NUMBER PRE_DIRECTION       STREET_NAME STREET_TYPE POST_DIRECTION  \\\n",
      "0           1732                        BROADWAY                              \n",
      "1            747                        BROADWAY                              \n",
      "2            433                            10TH      AVENUE                  \n",
      "3           1420                            10TH      AVENUE                  \n",
      "4            210                            10TH      STREET                  \n",
      "5            137                            11TH      AVENUE                  \n",
      "6            167                            11TH      AVENUE                  \n",
      "7            319                            11TH       PLACE                  \n",
      "8            129                            12TH      AVENUE                  \n",
      "9              3                BRITISH PROPERTY         WAY                  \n",
      "10          1732                        BROADWAY                              \n",
      "11           747                        BROADWAY                              \n",
      "12           433                            10TH      AVENUE                  \n",
      "13          1420                            10TH      AVENUE                  \n",
      "14           210                            10TH      STREET                  \n",
      "15           137                            11TH      AVENUE                  \n",
      "16           167                            11TH      AVENUE                  \n",
      "17           319                            11TH       PLACE                  \n",
      "18           129                            12TH      AVENUE                  \n",
      "19             3                BRITISH PROPERTY         WAY                  \n",
      "20           167                            11TH      AVENUE                  \n",
      "21           319                            11TH       PLACE                  \n",
      "22           129                            12TH      AVENUE                  \n",
      "23             3                BRITISH PROPERTY         WAY                  \n",
      "24           250                            25TH      AVENUE                  \n",
      "25          2500                        BROADWAY                              \n",
      "\n",
      "    UNIT_TYPE UNIT_NUMBER  Record_ID CITY STATE ZIP_CODE UNKNOWN  \n",
      "0       SUITE          20          0                              \n",
      "1                                  1                              \n",
      "2           5                      2                              \n",
      "3   APARTMENT          20          3                              \n",
      "4    BUILDING           A          4                              \n",
      "5                      23          5                              \n",
      "6   APARTMENT           A          6                              \n",
      "7        UNIT         123          7                              \n",
      "8                                  8                              \n",
      "9        UNIT          20          9                              \n",
      "10      SUITE          20         10                              \n",
      "11                                11                              \n",
      "12          5                     12                              \n",
      "13  APARTMENT          20         13                              \n",
      "14   BUILDING           A         14                              \n",
      "15                     23         15                              \n",
      "16  APARTMENT           A         16                              \n",
      "17       UNIT         123         17                              \n",
      "18                                18                              \n",
      "19       UNIT          20         19                              \n",
      "20  APARTMENT           A         20                              \n",
      "21       UNIT         123         21                              \n",
      "22                                22                              \n",
      "23       UNIT          20         23                              \n",
      "24                                24                              \n",
      "25                                25                              \n"
     ]
    }
   ],
   "source": [
    "print (joined_address_list_1)"
   ]
  },
  {
   "cell_type": "code",
   "execution_count": 63,
   "metadata": {},
   "outputs": [
    {
     "name": "stdout",
     "output_type": "stream",
     "text": [
      "   STREET_NUMBER PRE_DIRECTION       STREET_NAME STREET_TYPE POST_DIRECTION  \\\n",
      "0           1732                        BROADWAY                              \n",
      "1            747                        BROADWAY                              \n",
      "2            433                            10TH      AVENUE                  \n",
      "3           1420                            10TH      AVENUE                  \n",
      "4            210                            10TH      STREET                  \n",
      "5            137                            11TH      AVENUE                  \n",
      "6            167                            11TH      AVENUE                  \n",
      "7            319                            11TH       PLACE                  \n",
      "8            129                            12TH      AVENUE                  \n",
      "9              3                BRITISH PROPERTY         WAY                  \n",
      "10          1732                        BROADWAY                              \n",
      "11           747                        BROADWAY                              \n",
      "12           433                            10TH      AVENUE                  \n",
      "13          1420                            10TH      AVENUE                  \n",
      "14           210                            10TH      STREET                  \n",
      "15           137                            11TH      AVENUE                  \n",
      "16           167                            11TH      AVENUE                  \n",
      "17           319                            11TH       PLACE                  \n",
      "18           129                            12TH      AVENUE                  \n",
      "19             3                BRITISH PROPERTY         WAY                  \n",
      "20           167                            11TH      AVENUE                  \n",
      "21           319                            11TH       PLACE                  \n",
      "22           129                            12TH      AVENUE                  \n",
      "23             3                BRITISH PROPERTY         WAY                  \n",
      "24           250                            25TH      AVENUE                  \n",
      "25          2500                        BROADWAY                              \n",
      "26            52                            MAIN      STREET                  \n",
      "27           123                           MAPLE       DRIVE                  \n",
      "28         97531                    GEORGE ALLEN        ROAD                  \n",
      "29         13579          EAST               ELM      AVENUE                  \n",
      "\n",
      "    UNIT_TYPE UNIT_NUMBER  Record_ID CITY STATE ZIP_CODE UNKNOWN  \n",
      "0       SUITE          20          0                              \n",
      "1                                  1                              \n",
      "2           5                      2                              \n",
      "3   APARTMENT          20          3                              \n",
      "4    BUILDING           A          4                              \n",
      "5                      23          5                              \n",
      "6   APARTMENT           A          6                              \n",
      "7        UNIT         123          7                              \n",
      "8                                  8                              \n",
      "9        UNIT          20          9                              \n",
      "10      SUITE          20         10                              \n",
      "11                                11                              \n",
      "12          5                     12                              \n",
      "13  APARTMENT          20         13                              \n",
      "14   BUILDING           A         14                              \n",
      "15                     23         15                              \n",
      "16  APARTMENT           A         16                              \n",
      "17       UNIT         123         17                              \n",
      "18                                18                              \n",
      "19       UNIT          20         19                              \n",
      "20  APARTMENT           A         20                              \n",
      "21       UNIT         123         21                              \n",
      "22                                22                              \n",
      "23       UNIT          20         23                              \n",
      "24                                24                              \n",
      "25                                25                              \n",
      "26  APARTMENT          75         26                              \n",
      "27                                27                              \n",
      "28                                28                              \n",
      "29   BUILDING           4         29                              \n"
     ]
    }
   ],
   "source": [
    "print (joined_address_list_2)"
   ]
  },
  {
   "cell_type": "code",
   "execution_count": 64,
   "metadata": {
    "collapsed": true
   },
   "outputs": [],
   "source": [
    "# Intra-Grouping of Tagged Address Lists to Consolidate Duplicates\n",
    "grouped_address_list_1 = stndrdzr.consolidate_address_list(joined_address_list_1)\n",
    "grouped_address_list_2 = stndrdzr.consolidate_address_list(joined_address_list_2)"
   ]
  },
  {
   "cell_type": "code",
   "execution_count": 65,
   "metadata": {},
   "outputs": [
    {
     "name": "stdout",
     "output_type": "stream",
     "text": [
      "    UNIT_TYPE UNIT_NUMBER STREET_NUMBER PRE_DIRECTION       STREET_NAME  \\\n",
      "0                                   129                            12TH   \n",
      "1                                   250                            25TH   \n",
      "2                                  2500                        BROADWAY   \n",
      "3                                   747                        BROADWAY   \n",
      "4                      23           137                            11TH   \n",
      "5           5                       433                            10TH   \n",
      "6   APARTMENT          20          1420                            10TH   \n",
      "7   APARTMENT           A           167                            11TH   \n",
      "8    BUILDING           A           210                            10TH   \n",
      "9       SUITE          20          1732                        BROADWAY   \n",
      "10       UNIT         123           319                            11TH   \n",
      "11       UNIT          20             3                BRITISH PROPERTY   \n",
      "\n",
      "   STREET_TYPE POST_DIRECTION UNKNOWN CITY STATE ZIP_CODE    Record_ID  \n",
      "0       AVENUE                                             (8, 18, 22)  \n",
      "1       AVENUE                                                   (24,)  \n",
      "2                                                                (25,)  \n",
      "3                                                              (1, 11)  \n",
      "4       AVENUE                                                 (5, 15)  \n",
      "5       AVENUE                                                 (2, 12)  \n",
      "6       AVENUE                                                 (3, 13)  \n",
      "7       AVENUE                                             (6, 16, 20)  \n",
      "8       STREET                                                 (4, 14)  \n",
      "9                                                              (0, 10)  \n",
      "10       PLACE                                             (7, 17, 21)  \n",
      "11         WAY                                             (9, 19, 23)  \n"
     ]
    }
   ],
   "source": [
    "print (grouped_address_list_1)"
   ]
  },
  {
   "cell_type": "code",
   "execution_count": 66,
   "metadata": {},
   "outputs": [],
   "source": [
    "# Call Either the Exact Match or Learning Match Functions to match the 2 lists\n",
    "exact_matches = mtch.exact_matcher(grouped_address_list_1, grouped_address_list_2)\n"
   ]
  },
  {
   "cell_type": "code",
   "execution_count": 67,
   "metadata": {},
   "outputs": [],
   "source": [
    "#unmatched_address_list_1 = grouped_address_list_1.query(\"Record_ID not in @matched_addresses_list_1\")\n",
    "#unmatched_address_list_2 = grouped_address_list_2.query(\"Record_ID not in @matched_addresses_list_2\")\n",
    "unmatched_address_list_1 = grouped_address_list_1.mask(grouped_address_list_1.Record_ID.isin(exact_matches['Record_ID_list_1'])).dropna()\n",
    "unmatched_address_list_2 = grouped_address_list_2.mask(grouped_address_list_2.Record_ID.isin(exact_matches['Record_ID_list_2'])).dropna()"
   ]
  },
  {
   "cell_type": "code",
   "execution_count": 68,
   "metadata": {},
   "outputs": [
    {
     "name": "stdout",
     "output_type": "stream",
     "text": [
      "Empty DataFrame\n",
      "Columns: [UNIT_TYPE, UNIT_NUMBER, STREET_NUMBER, PRE_DIRECTION, STREET_NAME, STREET_TYPE, POST_DIRECTION, UNKNOWN, CITY, STATE, ZIP_CODE, Record_ID]\n",
      "Index: []\n"
     ]
    }
   ],
   "source": [
    "print (unmatched_address_list_1)"
   ]
  },
  {
   "cell_type": "code",
   "execution_count": 69,
   "metadata": {},
   "outputs": [
    {
     "name": "stdout",
     "output_type": "stream",
     "text": [
      "    UNIT_TYPE UNIT_NUMBER STREET_NUMBER PRE_DIRECTION   STREET_NAME  \\\n",
      "0                                   123                       MAPLE   \n",
      "5                                 97531                GEORGE ALLEN   \n",
      "9   APARTMENT          75            52                        MAIN   \n",
      "11   BUILDING           4         13579          EAST           ELM   \n",
      "\n",
      "   STREET_TYPE POST_DIRECTION UNKNOWN CITY STATE ZIP_CODE Record_ID  \n",
      "0        DRIVE                                                (27,)  \n",
      "5         ROAD                                                (28,)  \n",
      "9       STREET                                                (26,)  \n",
      "11      AVENUE                                                (29,)  \n"
     ]
    }
   ],
   "source": [
    "print (unmatched_address_list_2)"
   ]
  },
  {
   "cell_type": "code",
   "execution_count": null,
   "metadata": {
    "collapsed": true
   },
   "outputs": [],
   "source": []
  }
 ],
 "metadata": {
  "kernelspec": {
   "display_name": "Python 3",
   "language": "python",
   "name": "python3"
  },
  "language_info": {
   "codemirror_mode": {
    "name": "ipython",
    "version": 3
   },
   "file_extension": ".py",
   "mimetype": "text/x-python",
   "name": "python",
   "nbconvert_exporter": "python",
   "pygments_lexer": "ipython3",
   "version": "3.6.1"
  }
 },
 "nbformat": 4,
 "nbformat_minor": 2
}
