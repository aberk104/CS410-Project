{
 "cells": [
  {
   "cell_type": "markdown",
   "metadata": {},
   "source": [
    "The master_file is an example of how the address_compare library can be used to load training and test data, tag the addresses, standardize the addresses, and compare the different address lists.  It can serve as a reusable program by updating the input parameters.  If ground truth files are available, it will also show how well the tagger and compare functions perform."
   ]
  },
  {
   "cell_type": "code",
   "execution_count": 1,

   "metadata": {
    "collapsed": true
   },
   "outputs": [],
   "source": [
    "from address_compare import aggregate_functions as aggf\n",
    "from address_compare import address_randomizer as add_rndm\n",
    "import pandas as pd"
   ]
  },
  {
   "cell_type": "markdown",
   "metadata": {},
   "source": [
    "### Editable Parameters\n",
    "\n",
    "Although this notebook is an example of how to use the address_compare library (and especially the aggregate functions in the aggregate_functions.py file), the following parameters can be changed in order to control the inputs and outputs.  I.e., the following parameters allow this file to be a reusable program sitting on top of the address_compare library.  A description of each variable is as follows:\n",
    "\n",
    "\n",
    "The **run_mode** variable controls which portions of this notebook are run.  Options are:\n",
    "- **'tagger'** = run the address tagger against a single file that also contains the ground truths.  output will show how well the tagger did against the ground truths.  if using your own files, the fields with the ground truth values should be in the same spreadsheet tab and the field names should be \"Tagged Street Number\", \"Tagged Pre Street Direction\", \"Tagged Street Name\", \"Tagged Street Type\", \"Tagged Post Street Direction\", \"Tagged Unit Type\", \"Tagged  Unit Number\".  Alternatively, this mode can be run using randomly created addresses.\n",
    "- **'comparer'** = tag 2 separate lists of addresses and find matches between the lists.  no ground truths will be used to verify the accuracy of the tagger or the matcher. program will run against both **file_location_raw_addresses_1** and **file_location_raw_addresses_2**.  Alternatively, this mode can be run by using randomly created addresses.\n",
    "- **'comparer_truths'** = run the comparer and validate the matcher performance against the ground truths. program will run against both **file_location_raw_addresses_1** and **file_location_raw_addresses_2**.  in addition, the matched ground truths will be found in **file_name_ground_truth_matches**\n",
    "- **'all'** = runs all 3 modes.  i.e., tagger results compared against the ground truths and the matcher results compared against the ground truths.  program will run against both @file_location_raw_addresses_1 and @file_location_raw_addresses_2. in addition, the matched ground truths will be found in @file_name_ground_truth_matches\n",
    "\n",
    "**standardize_addresses** - this variable can be set to True or False determines whether or not the tagged addresses will be standardized (changed to upper case, spelled out street types, directionals, unit types, etc.).  True = the addresses will be standardized\n",
    "\n",
    "**use_raw_address_files** - if True, the files in file_location_raw_addresses_1 and 2 will be used.  If False, the specified number of random addresses in the **num_rndm_addresses_to_create** variable will be randomly created via the model.  The randomly created addresses can only be used if **run_mode** in ['tagger','comparer']\n",
    "\n",
    "**field_name_raw_addresses** - the field name in the files or random addresses containing the single address string to be parsed/standardized\n",
    "\n",
    "**field_name_record_id** - the field name in the files containing the record IDs.  If not present in the files, populate with None\n",
    "\n",
    "**file_location_raw_addresses_1** and **file_location_raw_addresses_2** - the file names and locations of the files to be tagged, standardized, and/or compared.  The default values are to files in the data folder that can be used to see how the address_compare model works\n",
    "\n",
    "**file_name_ground_truth_matches** - this file will be used if **run_mode** == 'comparer_truths' or 'all'.  It contains the ground truth matched record IDs along with a field to denote if the matched records are exact, standardized exact, or inexact matches.\n",
    "\n",
    "**write_output_to_excel** - if True, the output of the specified **run_mode** will be written to excel files in the output folder.  If False, the output will be printed in this notebook"
   ]
  },
  {
   "cell_type": "code",
   "execution_count": 2,
   "metadata": {
    "collapsed": true
   },
   "outputs": [],
   "source": [
    "run_mode = 'comparer' #choose from ['tagger','comparer','comparer_truths','all']\n",
    "\n",
    "\n",
    "standardize_addresses = True #if True, the tagged address components will be standardized (changed to upper case, unit types, street types, etc. changed to long form names)\n",
    "\n",

    "use_raw_address_files = False #if False, only the specified number of randomly created addresses above will be used; False only works with the 'comparer' run_mode\n",
    "num_rndm_addresses_to_create = 1000 #if use_raw_address_files = False, the number of addresses that will be randomly created for use in the tagger and compare functions\n",

    "\n",
    "field_name_raw_addresses = 'Single String Address' #represents the name of the field in the raw address files containing the raw address (street information)\n",
    "field_name_record_id = None #represents the name of the field containing the Record ID in the raw files; if not present in the raw files, populate with None\n",
    "\n",
    "file_location_raw_addresses_1 = 'data\\\\stnd tagged WA addresses - hwy as st type.xlsx'\n",
    "#file_location_raw_addresses_1 = 'data\\\\tagged stnd CO Stores - hwy as street type.xlsx'\n",
    "#file_location_raw_addresses_1 = 'data\\\\MarijuanaApplicants - test data list 1.xlsx'\n",
    "file_location_raw_addresses_2 = 'data\\\\MarijuanaApplicants - test data list 2.xlsx'\n",
    "\n",
    "file_name_ground_truth_matches = 'data\\\\marijuana applicants test data - correct matches.xlsx'\n",
    "\n",
    "write_output_to_excel = True #if True, the output from the applicable modes will be written to Excel; otherwise, results will be printed in the notebook"
   ]
  },
  {

   "cell_type": "markdown",

   "metadata": {},
   "source": [
    "### Tagger Run Mode\n",
    "\n",
    "The following cell depicts an example using the tagger_vs_ground_truths aggregate function (the tagger_vs_ground_truths function is a single function using various components from the address_compare folder).  \n",
    "- This function starts with a single file containing the single string address (the unparsed address), city, state, zip_code, as well as the Tagged versions of each record (i.e., the ground truths).  This mode will allow the user to start with randomly created addresses (setting **use_raw_address_files** == False)\n",
    "- The function parses and tags each component of the single string address, standardizes the components if standardize_addresses == \"True\", compares the tagged components to the ground truths, and calculates applicable metrics (true positives = correct tag from the model [non-blanks] with the same non-blank tag in the ground truths).  \n",
    "- Depending on whether the write_output_to_excel is set to true or false, the function results will either be written to excel or printed within the cell below."
   ]
  },
  {
   "cell_type": "code",
   "execution_count": 3,
   "metadata": {
    "collapsed": true
   },
   "outputs": [],
   "source": [
    "if run_mode == 'tagger':\n",
    "    if not use_raw_address_files:\n",
    "        randomized_addresses1 = add_rndm.random_addresses(num_rndm_addresses_to_create, field_name_raw_addresses)\n",
    "        file_location_raw_addresses_1 = 'data\\\\randomized_addresses_list_1.xlsx'\n",
    "        randomized_addresses1.to_excel(file_location_raw_addresses_1)\n",
    "        \n",
    "    df_dict = aggf.tagger_vs_ground_truths(file_location_raw_addresses_1, field_name_record_id, field_name_raw_addresses, standardize_addresses)\n",
    "    if write_output_to_excel:\n",
    "        output_name = 'output\\\\file_1_tagger_vs_truths.xlsx'\n",
    "        tagger_writer = pd.ExcelWriter(output_name, engine='xlsxwriter')\n",
    "        for sheet, frame in df_dict.items():\n",
    "            frame.to_excel(tagger_writer, sheet_name=sheet)\n",
    "        tagger_writer.save()\n",
    "    else:\n",
    "        for sheet, frame in df_dict.items():\n",
    "            print (\"sheet name = \", sheet)\n",
    "            print (frame)"
   ]
  },
  {
   "cell_type": "markdown",
   "metadata": {},
   "source": [
    "### Comparer and Comparer_Truths Run Modes\n",
    "The following cell depicts an example using the tag_and_compare_addresses aggregatae function (the tag_and_compare_addresses is a single function using various components from the address_compare folder).\n",
    "\n",
    "- This function starts with 2 files containing the unparsed/untagged addresses, along with the cities, states, and zip_codes.  For the 'comparer' mode only, randomly created addresses can be used in place of source files.\n",
    "- The raw addresses are parsed into their components and tagged.  If standardize_addresses == \"True\", the address components will be standardized.\n",
    "- The cities will also be standardized by using the 'primary_city' for the corresponding zip_code from the USPS.  If the provided zip_code is not valid for the listed state, it will be logged as an error via the standardization.\n",
    "- Once parsed, tagged, and standardized, an exact match will be run against the 2 lists to find matches.  Exact Matches will be split out from the remaining addresses that were unable to be matched in the output.\n",
    "- If run_mode == 'comparer_truths', the exact matches found above will be compared against the ground truth matches.  Applicable metrics will be calculated to show how well the model did against the ground truths (true positives = an exact match from the model and an exact match in the ground truths).\n",
    "- Depending on whether the write_output_to_excel is set to be true or false, the function results will either be written to excel or printed within the cell below."
   ]
  },
  {
   "cell_type": "code",
   "execution_count": 4,
   "metadata": {},
   "outputs": [
    {
     "ename": "KeyError",
     "evalue": "\"['Record_ID'] not in index\"",
     "traceback": [
      "\u001b[1;31m---------------------------------------------------------------------------\u001b[0m",
      "\u001b[1;31mKeyError\u001b[0m                                  Traceback (most recent call last)",
      "\u001b[1;32m<ipython-input-4-94b1eb51611a>\u001b[0m in \u001b[0;36m<module>\u001b[1;34m()\u001b[0m\n\u001b[0;32m      1\u001b[0m \u001b[1;32mif\u001b[0m \u001b[0mrun_mode\u001b[0m \u001b[1;32min\u001b[0m \u001b[1;33m[\u001b[0m\u001b[1;34m'comparer'\u001b[0m\u001b[1;33m,\u001b[0m\u001b[1;34m'comparer_truths'\u001b[0m\u001b[1;33m]\u001b[0m\u001b[1;33m:\u001b[0m\u001b[1;33m\u001b[0m\u001b[0m\n\u001b[1;32m----> 2\u001b[1;33m     \u001b[0mcompared_dict\u001b[0m\u001b[1;33m,\u001b[0m \u001b[0mmatcher_truths_dict\u001b[0m \u001b[1;33m=\u001b[0m \u001b[0maggf\u001b[0m\u001b[1;33m.\u001b[0m\u001b[0mtag_and_compare_addresses\u001b[0m\u001b[1;33m(\u001b[0m\u001b[0mfile_location_raw_addresses_1\u001b[0m\u001b[1;33m,\u001b[0m \u001b[0mfile_location_raw_addresses_2\u001b[0m\u001b[1;33m,\u001b[0m \u001b[0mfile_name_ground_truth_matches\u001b[0m\u001b[1;33m,\u001b[0m \u001b[0muse_raw_address_files\u001b[0m\u001b[1;33m,\u001b[0m \u001b[0mnum_rndm_addresses_to_create\u001b[0m\u001b[1;33m,\u001b[0m \u001b[0mfield_name_record_id\u001b[0m\u001b[1;33m,\u001b[0m \u001b[0mfield_name_raw_addresses\u001b[0m\u001b[1;33m,\u001b[0m \u001b[0mstandardize_addresses\u001b[0m\u001b[1;33m,\u001b[0m \u001b[0mrun_mode\u001b[0m\u001b[1;33m)\u001b[0m\u001b[1;33m\u001b[0m\u001b[0m\n\u001b[0m\u001b[0;32m      3\u001b[0m     \u001b[1;32mif\u001b[0m \u001b[0mwrite_output_to_excel\u001b[0m\u001b[1;33m:\u001b[0m\u001b[1;33m\u001b[0m\u001b[0m\n\u001b[0;32m      4\u001b[0m         \u001b[0moutput_name\u001b[0m \u001b[1;33m=\u001b[0m \u001b[1;34m'output\\\\raw_to_matched_addresses.xlsx'\u001b[0m\u001b[1;33m\u001b[0m\u001b[0m\n\u001b[0;32m      5\u001b[0m         \u001b[0mtagger_writer\u001b[0m \u001b[1;33m=\u001b[0m \u001b[0mpd\u001b[0m\u001b[1;33m.\u001b[0m\u001b[0mExcelWriter\u001b[0m\u001b[1;33m(\u001b[0m\u001b[0moutput_name\u001b[0m\u001b[1;33m,\u001b[0m \u001b[0mengine\u001b[0m\u001b[1;33m=\u001b[0m\u001b[1;34m'xlsxwriter'\u001b[0m\u001b[1;33m)\u001b[0m\u001b[1;33m\u001b[0m\u001b[0m\n",
      "\u001b[1;32mC:\\Users\\Alan\\Documents\\GitHub\\CS410-Project\\address_compare\\aggregate_functions.py\u001b[0m in \u001b[0;36mtag_and_compare_addresses\u001b[1;34m(file1, file2, groundtruths, use_raw_files, num_rndm_address, field_rec_id, field_raw_address, to_standardize, run_mode, missing_cols, matchtypes)\u001b[0m\n\u001b[0;32m    270\u001b[0m \u001b[1;33m\u001b[0m\u001b[0m\n\u001b[0;32m    271\u001b[0m     \u001b[1;31m# Compare the 2 tagged address lists\u001b[0m\u001b[1;33m\u001b[0m\u001b[1;33m\u001b[0m\u001b[0m\n\u001b[1;32m--> 272\u001b[1;33m     \u001b[0mcompared_lists_dict\u001b[0m \u001b[1;33m=\u001b[0m \u001b[0mpvt_compare_2_address_lists\u001b[0m\u001b[1;33m(\u001b[0m\u001b[0mraw_address_list_1\u001b[0m\u001b[1;33m,\u001b[0m \u001b[0mraw_address_list_2\u001b[0m\u001b[1;33m,\u001b[0m \u001b[0mtagged_address_list_1\u001b[0m\u001b[1;33m,\u001b[0m \u001b[0mtagged_address_list_2\u001b[0m\u001b[1;33m,\u001b[0m \u001b[0mrun_mode\u001b[0m\u001b[1;33m)\u001b[0m\u001b[1;33m\u001b[0m\u001b[0m\n\u001b[0m\u001b[0;32m    273\u001b[0m \u001b[1;33m\u001b[0m\u001b[0m\n\u001b[0;32m    274\u001b[0m     \u001b[1;31m# Model Results vs. Ground Truths\u001b[0m\u001b[1;33m\u001b[0m\u001b[1;33m\u001b[0m\u001b[0m\n",
      "\u001b[1;32mC:\\Users\\Alan\\Documents\\GitHub\\CS410-Project\\address_compare\\aggregate_functions.py\u001b[0m in \u001b[0;36mpvt_compare_2_address_lists\u001b[1;34m(rawlist1, rawlist2, taggedlist1, taggedlist2, runmode)\u001b[0m\n\u001b[0;32m     94\u001b[0m \u001b[1;33m\u001b[0m\u001b[0m\n\u001b[0;32m     95\u001b[0m     \u001b[1;31m# Add Remaining Columns from Raw Address Dataframes to Tagged Address Dataframes\u001b[0m\u001b[1;33m\u001b[0m\u001b[1;33m\u001b[0m\u001b[0m\n\u001b[1;32m---> 96\u001b[1;33m     \u001b[0mjoined_address_list_1\u001b[0m \u001b[1;33m=\u001b[0m \u001b[0mtaggedlist1\u001b[0m\u001b[1;33m.\u001b[0m\u001b[0mjoin\u001b[0m\u001b[1;33m(\u001b[0m\u001b[0mrawlist1\u001b[0m\u001b[1;33m[\u001b[0m\u001b[1;33m[\u001b[0m\u001b[1;34m'Record_ID'\u001b[0m\u001b[1;33m,\u001b[0m \u001b[1;34m'CITY'\u001b[0m\u001b[1;33m,\u001b[0m \u001b[1;34m'STATE'\u001b[0m\u001b[1;33m,\u001b[0m \u001b[1;34m'ZIP_CODE'\u001b[0m\u001b[1;33m,\u001b[0m \u001b[1;34m'UNKNOWN'\u001b[0m\u001b[1;33m,\u001b[0m \u001b[1;34m'Zip_Code_Error'\u001b[0m\u001b[1;33m]\u001b[0m\u001b[1;33m]\u001b[0m\u001b[1;33m)\u001b[0m\u001b[1;33m\u001b[0m\u001b[0m\n\u001b[0m\u001b[0;32m     97\u001b[0m     \u001b[0mjoined_address_list_2\u001b[0m \u001b[1;33m=\u001b[0m \u001b[0mtaggedlist2\u001b[0m\u001b[1;33m.\u001b[0m\u001b[0mjoin\u001b[0m\u001b[1;33m(\u001b[0m\u001b[0mrawlist2\u001b[0m\u001b[1;33m[\u001b[0m\u001b[1;33m[\u001b[0m\u001b[1;34m'Record_ID'\u001b[0m\u001b[1;33m,\u001b[0m \u001b[1;34m'CITY'\u001b[0m\u001b[1;33m,\u001b[0m \u001b[1;34m'STATE'\u001b[0m\u001b[1;33m,\u001b[0m \u001b[1;34m'ZIP_CODE'\u001b[0m\u001b[1;33m,\u001b[0m \u001b[1;34m'UNKNOWN'\u001b[0m\u001b[1;33m,\u001b[0m \u001b[1;34m'Zip_Code_Error'\u001b[0m\u001b[1;33m]\u001b[0m\u001b[1;33m]\u001b[0m\u001b[1;33m)\u001b[0m\u001b[1;33m\u001b[0m\u001b[0m\n\u001b[0;32m     98\u001b[0m \u001b[1;33m\u001b[0m\u001b[0m\n",
      "\u001b[1;32mC:\\ProgramData\\Anaconda3\\lib\\site-packages\\pandas\\core\\frame.py\u001b[0m in \u001b[0;36m__getitem__\u001b[1;34m(self, key)\u001b[0m\n\u001b[0;32m   2131\u001b[0m         \u001b[1;32mif\u001b[0m \u001b[0misinstance\u001b[0m\u001b[1;33m(\u001b[0m\u001b[0mkey\u001b[0m\u001b[1;33m,\u001b[0m \u001b[1;33m(\u001b[0m\u001b[0mSeries\u001b[0m\u001b[1;33m,\u001b[0m \u001b[0mnp\u001b[0m\u001b[1;33m.\u001b[0m\u001b[0mndarray\u001b[0m\u001b[1;33m,\u001b[0m \u001b[0mIndex\u001b[0m\u001b[1;33m,\u001b[0m \u001b[0mlist\u001b[0m\u001b[1;33m)\u001b[0m\u001b[1;33m)\u001b[0m\u001b[1;33m:\u001b[0m\u001b[1;33m\u001b[0m\u001b[0m\n\u001b[0;32m   2132\u001b[0m             \u001b[1;31m# either boolean or fancy integer index\u001b[0m\u001b[1;33m\u001b[0m\u001b[1;33m\u001b[0m\u001b[0m\n\u001b[1;32m-> 2133\u001b[1;33m             \u001b[1;32mreturn\u001b[0m \u001b[0mself\u001b[0m\u001b[1;33m.\u001b[0m\u001b[0m_getitem_array\u001b[0m\u001b[1;33m(\u001b[0m\u001b[0mkey\u001b[0m\u001b[1;33m)\u001b[0m\u001b[1;33m\u001b[0m\u001b[0m\n\u001b[0m\u001b[0;32m   2134\u001b[0m         \u001b[1;32melif\u001b[0m \u001b[0misinstance\u001b[0m\u001b[1;33m(\u001b[0m\u001b[0mkey\u001b[0m\u001b[1;33m,\u001b[0m \u001b[0mDataFrame\u001b[0m\u001b[1;33m)\u001b[0m\u001b[1;33m:\u001b[0m\u001b[1;33m\u001b[0m\u001b[0m\n\u001b[0;32m   2135\u001b[0m             \u001b[1;32mreturn\u001b[0m \u001b[0mself\u001b[0m\u001b[1;33m.\u001b[0m\u001b[0m_getitem_frame\u001b[0m\u001b[1;33m(\u001b[0m\u001b[0mkey\u001b[0m\u001b[1;33m)\u001b[0m\u001b[1;33m\u001b[0m\u001b[0m\n",
      "\u001b[1;32mC:\\ProgramData\\Anaconda3\\lib\\site-packages\\pandas\\core\\frame.py\u001b[0m in \u001b[0;36m_getitem_array\u001b[1;34m(self, key)\u001b[0m\n\u001b[0;32m   2175\u001b[0m             \u001b[1;32mreturn\u001b[0m \u001b[0mself\u001b[0m\u001b[1;33m.\u001b[0m\u001b[0m_take\u001b[0m\u001b[1;33m(\u001b[0m\u001b[0mindexer\u001b[0m\u001b[1;33m,\u001b[0m \u001b[0maxis\u001b[0m\u001b[1;33m=\u001b[0m\u001b[1;36m0\u001b[0m\u001b[1;33m,\u001b[0m \u001b[0mconvert\u001b[0m\u001b[1;33m=\u001b[0m\u001b[1;32mFalse\u001b[0m\u001b[1;33m)\u001b[0m\u001b[1;33m\u001b[0m\u001b[0m\n\u001b[0;32m   2176\u001b[0m         \u001b[1;32melse\u001b[0m\u001b[1;33m:\u001b[0m\u001b[1;33m\u001b[0m\u001b[0m\n\u001b[1;32m-> 2177\u001b[1;33m             \u001b[0mindexer\u001b[0m \u001b[1;33m=\u001b[0m \u001b[0mself\u001b[0m\u001b[1;33m.\u001b[0m\u001b[0mloc\u001b[0m\u001b[1;33m.\u001b[0m\u001b[0m_convert_to_indexer\u001b[0m\u001b[1;33m(\u001b[0m\u001b[0mkey\u001b[0m\u001b[1;33m,\u001b[0m \u001b[0maxis\u001b[0m\u001b[1;33m=\u001b[0m\u001b[1;36m1\u001b[0m\u001b[1;33m)\u001b[0m\u001b[1;33m\u001b[0m\u001b[0m\n\u001b[0m\u001b[0;32m   2178\u001b[0m             \u001b[1;32mreturn\u001b[0m \u001b[0mself\u001b[0m\u001b[1;33m.\u001b[0m\u001b[0m_take\u001b[0m\u001b[1;33m(\u001b[0m\u001b[0mindexer\u001b[0m\u001b[1;33m,\u001b[0m \u001b[0maxis\u001b[0m\u001b[1;33m=\u001b[0m\u001b[1;36m1\u001b[0m\u001b[1;33m,\u001b[0m \u001b[0mconvert\u001b[0m\u001b[1;33m=\u001b[0m\u001b[1;32mTrue\u001b[0m\u001b[1;33m)\u001b[0m\u001b[1;33m\u001b[0m\u001b[0m\n\u001b[0;32m   2179\u001b[0m \u001b[1;33m\u001b[0m\u001b[0m\n",
      "\u001b[1;32mC:\\ProgramData\\Anaconda3\\lib\\site-packages\\pandas\\core\\indexing.py\u001b[0m in \u001b[0;36m_convert_to_indexer\u001b[1;34m(self, obj, axis, is_setter)\u001b[0m\n\u001b[0;32m   1267\u001b[0m                 \u001b[1;32mif\u001b[0m \u001b[0mmask\u001b[0m\u001b[1;33m.\u001b[0m\u001b[0many\u001b[0m\u001b[1;33m(\u001b[0m\u001b[1;33m)\u001b[0m\u001b[1;33m:\u001b[0m\u001b[1;33m\u001b[0m\u001b[0m\n\u001b[0;32m   1268\u001b[0m                     raise KeyError('{mask} not in index'\n\u001b[1;32m-> 1269\u001b[1;33m                                    .format(mask=objarr[mask]))\n\u001b[0m\u001b[0;32m   1270\u001b[0m \u001b[1;33m\u001b[0m\u001b[0m\n\u001b[0;32m   1271\u001b[0m                 \u001b[1;32mreturn\u001b[0m \u001b[0m_values_from_object\u001b[0m\u001b[1;33m(\u001b[0m\u001b[0mindexer\u001b[0m\u001b[1;33m)\u001b[0m\u001b[1;33m\u001b[0m\u001b[0m\n",
      "\u001b[1;31mKeyError\u001b[0m: \"['Record_ID'] not in index\""
     ],
     "output_type": "error"
    }
   ],
   "source": [
    "if run_mode in ['comparer','comparer_truths']:\n",
    "    if not use_raw_address_files:\n",
    "        randomized_addresses1 = add_rndm.random_addresses(num_rndm_addresses_to_create, field_name_raw_addresses)\n",
    "        file_location_raw_addresses_1 = 'data\\\\randomized_addresses_list_1.xlsx'\n",
    "        randomized_addresses1.to_excel(file_location_raw_addresses_1)\n",
    "        \n",
    "        randomized_addresses2 = add_rndm.random_addresses(num_rndm_addresses_to_create, field_name_raw_addresses)\n",
    "        file_location_raw_addresses_2 = 'data\\\\randomized_addresses_list_2.xlsx'\n",
    "        randomized_addresses2.to_excel(file_location_raw_addresses_2)\n",
    "        \n",
    "    compared_dict, matcher_truths_dict = aggf.tag_and_compare_addresses(file_location_raw_addresses_1, file_location_raw_addresses_2, file_name_ground_truth_matches, field_name_record_id, field_name_raw_addresses, standardize_addresses, run_mode)\n",
    "    if write_output_to_excel:\n",
    "        output_name = 'output\\\\raw_to_matched_addresses.xlsx'\n",
    "        tagger_writer = pd.ExcelWriter(output_name, engine='xlsxwriter')\n",
    "        for sheet, frame in compared_dict.items():\n",
    "            frame.to_excel(tagger_writer, sheet_name=sheet)\n",
    "        tagger_writer.save()\n",
    "    else:\n",
    "        for sheet, frame in compared_dict.items():\n",
    "            print (\"sheet name = \", sheet)\n",
    "            print (frame)\n",
    "\n",
    "    if run_mode == 'comparer_truths':\n",
    "        if write_output_to_excel:\n",
    "            output_name = 'output\\\\modeled_matches_vs_ground_truths.xlsx'\n",
    "            tagger_writer = pd.ExcelWriter(output_name, engine='xlsxwriter')\n",
    "            for sheet, frame in matcher_truths_dict.items():\n",
    "                frame.to_excel(tagger_writer, sheet_name=sheet)\n",
    "            tagger_writer.save()\n",
    "        else:\n",
    "            for sheet, frame in matcher_truths_dict.items():\n",
    "                print (\"sheet name = \", sheet)\n",
    "                print (frame)"
   ]
  },
  {
   "cell_type": "markdown",
   "metadata": {},
   "source": [
    "### 'All' Run Mode\n",
    "The following cell depicts an example using the tag_vs_truths_and_compare_addresses aggregate function (the tag_vs_truths_and_compare_addresses is a single function using various components from the address_compare folder).  This function is equivalent to the 'tagger' run_mode against both input files and then the 'comparer_truths' run_model against the the input files.  I.e., it will depict how well the tagger performed against both input files followed by matching the addresses and showing the matcher performance against the ground truths."
   ]
  },
  {
   "cell_type": "code",

   "execution_count": 5,
   "metadata": {
    "collapsed": true
   },
   "outputs": [],
   "source": [
    "if run_mode == 'all':\n",
    "    tag_truths1_dict, tag_truths2_dict, compared_dict, matcher_truths_dict = aggf.tag_vs_truths_and_compare_addresses(file_location_raw_addresses_1, file_location_raw_addresses_2, file_name_ground_truth_matches, use_raw_address_files, num_rndm_addresses_to_create, field_name_record_id, field_name_raw_addresses, standardize_addresses, run_mode)\n",
    "    if write_output_to_excel:\n",
    "        output_name = 'output\\\\file_1_tagger_vs_truths.xlsx'\n",
    "        tagger_writer = pd.ExcelWriter(output_name, engine='xlsxwriter')\n",
    "        for sheet, frame in tag_truths1_dict.items():\n",
    "            frame.to_excel(tagger_writer, sheet_name=sheet)\n",
    "        tagger_writer.save()\n",
    "        \n",
    "        output_name = 'output\\\\file_2_tagger_vs_truths.xlsx'\n",
    "        tagger_writer = pd.ExcelWriter(output_name, engine='xlsxwriter')\n",
    "        for sheet, frame in tag_truths2_dict.items():\n",
    "            frame.to_excel(tagger_writer, sheet_name=sheet)\n",
    "        tagger_writer.save()\n",
    "        \n",
    "        output_name = 'output\\\\raw_to_matched_addresses.xlsx'\n",
    "        tagger_writer = pd.ExcelWriter(output_name, engine='xlsxwriter')\n",
    "        for sheet, frame in compared_dict.items():\n",
    "            frame.to_excel(tagger_writer, sheet_name=sheet)\n",
    "        tagger_writer.save()\n",
    "        \n",
    "        output_name = 'output\\\\modeled_matches_vs_ground_truths.xlsx'\n",
    "        tagger_writer = pd.ExcelWriter(output_name, engine='xlsxwriter')\n",
    "        for sheet, frame in matcher_truths_dict.items():\n",
    "            frame.to_excel(tagger_writer, sheet_name=sheet)\n",
    "        tagger_writer.save()\n",
    "    else:\n",
    "        for sheet, frame in tag_truths1_dict.items():\n",
    "            print (\"sheet name = \", sheet)\n",
    "            print (frame)\n",
    "\n",
    "        for sheet, frame in tag_truths2_dict.items():\n",
    "            print (\"sheet name = \", sheet)\n",
    "            print (frame)\n",
    "            \n",
    "        for sheet, frame in compared_dict.items():\n",
    "            print (\"sheet name = \", sheet)\n",
    "            print (frame)\n",
    "            \n",
    "        for sheet, frame in matcher_truths_dict.items():\n",
    "            print (\"sheet name = \", sheet)\n",
    "            print (frame)"
   ]
  }
 ],
 "metadata": {
  "kernelspec": {
   "display_name": "Python 3",
   "language": "python",
   "name": "python3"
  },
  "language_info": {
   "codemirror_mode": {
    "name": "ipython",
    "version": 3
   },
   "file_extension": ".py",
   "mimetype": "text/x-python",
   "name": "python",
   "nbconvert_exporter": "python",
   "pygments_lexer": "ipython3",
   "version": "3.6.1"
  }
 },
 "nbformat": 4,
 "nbformat_minor": 2
}
